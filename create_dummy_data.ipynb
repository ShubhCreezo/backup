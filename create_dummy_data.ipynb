{
 "cells": [
  {
   "cell_type": "code",
   "execution_count": 1,
   "id": "c8e3390a-47ee-4792-9622-2d89161c7cee",
   "metadata": {},
   "outputs": [],
   "source": [
    "from faker import Faker\n",
    "import random\n",
    "import pandas as pd"
   ]
  },
  {
   "cell_type": "code",
   "execution_count": 2,
   "id": "9b4ff626-df4f-48b0-9628-a56eb46c542a",
   "metadata": {},
   "outputs": [],
   "source": [
    "from sqlalchemy import create_engine\n",
    "engine = create_engine(\"sqlite:///C:\\\\Users\\\\shubh\\\\AppData\\\\Roaming\\\\DBeaverData\\\\workspace6\\\\.metadata\\\\sample-database-sqlite-1\\\\Chinook.db\")"
   ]
  },
  {
   "cell_type": "markdown",
   "id": "eb573c86-26db-468c-a7b1-b3b315d73076",
   "metadata": {},
   "source": [
    "# Creating Salary Table"
   ]
  },
  {
   "cell_type": "code",
   "execution_count": 16,
   "id": "d0e15bd5-6b5c-4757-ac0f-2b8f0483029e",
   "metadata": {},
   "outputs": [],
   "source": [
    "my_dict = {}\n",
    "for i in range(1,9):\n",
    "    my_dict.update({i:[random.randint(1000,10000)]})"
   ]
  },
  {
   "cell_type": "code",
   "execution_count": 17,
   "id": "0f1e826e-45b7-486e-9a0c-7132408afa28",
   "metadata": {},
   "outputs": [
    {
     "data": {
      "text/plain": [
       "{1: [7011],\n",
       " 2: [2370],\n",
       " 3: [5750],\n",
       " 4: [8319],\n",
       " 5: [3862],\n",
       " 6: [1818],\n",
       " 7: [7588],\n",
       " 8: [3933]}"
      ]
     },
     "execution_count": 17,
     "metadata": {},
     "output_type": "execute_result"
    }
   ],
   "source": [
    "my_dict"
   ]
  },
  {
   "cell_type": "code",
   "execution_count": 24,
   "id": "30981408-b688-4e9a-b6f3-8c6b849a4444",
   "metadata": {},
   "outputs": [],
   "source": [
    "df = pd.DataFrame(my_dict).transpose().reset_index().rename(columns={'index':'Emp_ID',0:'Salary'})"
   ]
  },
  {
   "cell_type": "code",
   "execution_count": 25,
   "id": "196772df-fcee-4cb0-9e50-2b33dc08059b",
   "metadata": {},
   "outputs": [
    {
     "data": {
      "text/html": [
       "<div>\n",
       "<style scoped>\n",
       "    .dataframe tbody tr th:only-of-type {\n",
       "        vertical-align: middle;\n",
       "    }\n",
       "\n",
       "    .dataframe tbody tr th {\n",
       "        vertical-align: top;\n",
       "    }\n",
       "\n",
       "    .dataframe thead th {\n",
       "        text-align: right;\n",
       "    }\n",
       "</style>\n",
       "<table border=\"1\" class=\"dataframe\">\n",
       "  <thead>\n",
       "    <tr style=\"text-align: right;\">\n",
       "      <th></th>\n",
       "      <th>Emp_ID</th>\n",
       "      <th>Salary</th>\n",
       "    </tr>\n",
       "  </thead>\n",
       "  <tbody>\n",
       "    <tr>\n",
       "      <th>0</th>\n",
       "      <td>1</td>\n",
       "      <td>7011</td>\n",
       "    </tr>\n",
       "    <tr>\n",
       "      <th>1</th>\n",
       "      <td>2</td>\n",
       "      <td>2370</td>\n",
       "    </tr>\n",
       "    <tr>\n",
       "      <th>2</th>\n",
       "      <td>3</td>\n",
       "      <td>5750</td>\n",
       "    </tr>\n",
       "    <tr>\n",
       "      <th>3</th>\n",
       "      <td>4</td>\n",
       "      <td>8319</td>\n",
       "    </tr>\n",
       "    <tr>\n",
       "      <th>4</th>\n",
       "      <td>5</td>\n",
       "      <td>3862</td>\n",
       "    </tr>\n",
       "  </tbody>\n",
       "</table>\n",
       "</div>"
      ],
      "text/plain": [
       "   Emp_ID  Salary\n",
       "0       1    7011\n",
       "1       2    2370\n",
       "2       3    5750\n",
       "3       4    8319\n",
       "4       5    3862"
      ]
     },
     "execution_count": 25,
     "metadata": {},
     "output_type": "execute_result"
    }
   ],
   "source": [
    "df.head()"
   ]
  },
  {
   "cell_type": "code",
   "execution_count": 33,
   "id": "b768e1e5-bd24-428a-a9c6-bfeb31017019",
   "metadata": {},
   "outputs": [
    {
     "data": {
      "text/plain": [
       "8"
      ]
     },
     "execution_count": 33,
     "metadata": {},
     "output_type": "execute_result"
    }
   ],
   "source": [
    "df.to_sql('Emp_Salary',con=engine, index=False, if_exists='replace')"
   ]
  },
  {
   "cell_type": "markdown",
   "id": "864729e4-d3c2-4f49-b847-a4d2b37679b7",
   "metadata": {},
   "source": [
    "# Creating Department TAble"
   ]
  },
  {
   "cell_type": "code",
   "execution_count": 3,
   "id": "e490b258-0b1d-4869-96c0-7d66cbcaf7b0",
   "metadata": {},
   "outputs": [],
   "source": [
    "dept = {1:['Analytics'],\n",
    "       2: ['Development'],\n",
    "       3:['Quality']}"
   ]
  },
  {
   "cell_type": "code",
   "execution_count": 4,
   "id": "79bbf1cd-0a19-460a-b628-9f2a5163f81f",
   "metadata": {},
   "outputs": [],
   "source": [
    "df = pd.DataFrame(dept).transpose().reset_index().rename(columns={'index':'Dept_ID',0:'Department'})"
   ]
  },
  {
   "cell_type": "code",
   "execution_count": 5,
   "id": "78b844e9-b165-43f8-8e18-800b0e15907c",
   "metadata": {},
   "outputs": [
    {
     "data": {
      "text/plain": [
       "3"
      ]
     },
     "execution_count": 5,
     "metadata": {},
     "output_type": "execute_result"
    }
   ],
   "source": [
    "df.to_sql('Department',con=engine, index=False, if_exists='replace')"
   ]
  },
  {
   "cell_type": "code",
   "execution_count": 6,
   "id": "d12745d8-d1f5-442f-b257-3512b8c66c37",
   "metadata": {},
   "outputs": [],
   "source": [
    "query = '''select * from Employee_New;'''\n",
    "df = pd.read_sql(query, engine)"
   ]
  },
  {
   "cell_type": "code",
   "execution_count": 17,
   "id": "3cfadc25-01ca-4f9b-a1d3-7d9ebf4438d3",
   "metadata": {},
   "outputs": [],
   "source": [
    "Dept_ID = []\n",
    "for i in df['EmployeeId']:\n",
    "    Dept_ID.append(random.choice(list(dept.keys())))"
   ]
  },
  {
   "cell_type": "code",
   "execution_count": 19,
   "id": "95f6138a-f8fc-4eea-8c0d-f4d3402370a6",
   "metadata": {},
   "outputs": [],
   "source": [
    "df['Dept_ID'] = Dept_ID"
   ]
  },
  {
   "cell_type": "code",
   "execution_count": 20,
   "id": "808bfe64-9184-4510-86fe-cd8209eebaf4",
   "metadata": {},
   "outputs": [
    {
     "data": {
      "text/plain": [
       "9"
      ]
     },
     "execution_count": 20,
     "metadata": {},
     "output_type": "execute_result"
    }
   ],
   "source": [
    "df.to_sql('Employee_New',con=engine, index=False, if_exists='replace')"
   ]
  },
  {
   "cell_type": "code",
   "execution_count": null,
   "id": "ac0d7b65-48a2-41dd-91f7-e05707d6f86a",
   "metadata": {},
   "outputs": [],
   "source": []
  }
 ],
 "metadata": {
  "kernelspec": {
   "display_name": "Python 3 (ipykernel)",
   "language": "python",
   "name": "python3"
  },
  "language_info": {
   "codemirror_mode": {
    "name": "ipython",
    "version": 3
   },
   "file_extension": ".py",
   "mimetype": "text/x-python",
   "name": "python",
   "nbconvert_exporter": "python",
   "pygments_lexer": "ipython3",
   "version": "3.10.9"
  }
 },
 "nbformat": 4,
 "nbformat_minor": 5
}
