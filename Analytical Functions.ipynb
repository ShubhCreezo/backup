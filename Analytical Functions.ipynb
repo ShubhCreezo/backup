{
    "metadata": {
        "kernelspec": {
            "name": "SQL",
            "display_name": "SQL",
            "language": "sql"
        },
        "language_info": {
            "name": "sql",
            "version": ""
        }
    },
    "nbformat_minor": 2,
    "nbformat": 4,
    "cells": [
        {
            "cell_type": "markdown",
            "source": [
                "<span style=\"box-sizing: inherit; font-weight: 700; color: rgb(34, 34, 34); font-family: Arial, Helvetica, sans-serif; font-size: 17px; background-color: rgb(255, 255, 255);\">Average Salary of all employees</span>"
            ],
            "metadata": {
                "azdata_cell_guid": "e04fe1cf-27c4-4910-a0a5-8eb734ff9af9"
            },
            "attachments": {}
        },
        {
            "cell_type": "code",
            "source": [
                "select avg(salary) as avg_salary\r\n",
                "from Employees;"
            ],
            "metadata": {
                "azdata_cell_guid": "7d7e6625-bcf8-4bac-8294-fb4c4cbe12da",
                "language": "sql"
            },
            "outputs": [
                {
                    "output_type": "display_data",
                    "data": {
                        "text/html": "(1 row affected)"
                    },
                    "metadata": {}
                },
                {
                    "output_type": "display_data",
                    "data": {
                        "text/html": "Total execution time: 00:00:00.033"
                    },
                    "metadata": {}
                },
                {
                    "output_type": "execute_result",
                    "metadata": {},
                    "execution_count": 1,
                    "data": {
                        "application/vnd.dataresource+json": {
                            "schema": {
                                "fields": [
                                    {
                                        "name": "avg_salary"
                                    }
                                ]
                            },
                            "data": [
                                {
                                    "avg_salary": "6400"
                                }
                            ]
                        },
                        "text/html": [
                            "<table>",
                            "<tr><th>avg_salary</th></tr>",
                            "<tr><td>6400</td></tr>",
                            "</table>"
                        ]
                    }
                }
            ],
            "execution_count": 1
        },
        {
            "cell_type": "markdown",
            "source": [
                "<span style=\"box-sizing: inherit; font-weight: 700; color: rgb(34, 34, 34); font-family: Arial, Helvetica, sans-serif; font-size: 17px; background-color: rgb(255, 255, 255);\">Average Salary of all employees Department wise</span>"
            ],
            "metadata": {
                "language": "sql",
                "azdata_cell_guid": "cc9236d7-f3bd-4365-909e-eb70f50f4bdf"
            },
            "attachments": {}
        },
        {
            "cell_type": "code",
            "source": [
                "select department_id, avg(salary) as avg_salary\r\n",
                "from Employees\r\n",
                "group by department_id"
            ],
            "metadata": {
                "language": "sql",
                "azdata_cell_guid": "82019aed-b451-45d4-8a9f-c97324c50081",
                "tags": []
            },
            "outputs": [
                {
                    "output_type": "display_data",
                    "data": {
                        "text/html": "(5 rows affected)"
                    },
                    "metadata": {}
                },
                {
                    "output_type": "display_data",
                    "data": {
                        "text/html": "Total execution time: 00:00:00.010"
                    },
                    "metadata": {}
                },
                {
                    "output_type": "execute_result",
                    "metadata": {},
                    "execution_count": 2,
                    "data": {
                        "application/vnd.dataresource+json": {
                            "schema": {
                                "fields": [
                                    {
                                        "name": "department_id"
                                    },
                                    {
                                        "name": "avg_salary"
                                    }
                                ]
                            },
                            "data": [
                                {
                                    "department_id": "1",
                                    "avg_salary": "5500"
                                },
                                {
                                    "department_id": "2",
                                    "avg_salary": "6500"
                                },
                                {
                                    "department_id": "3",
                                    "avg_salary": "5000"
                                },
                                {
                                    "department_id": "4",
                                    "avg_salary": "8000"
                                },
                                {
                                    "department_id": "5",
                                    "avg_salary": "7000"
                                }
                            ]
                        },
                        "text/html": [
                            "<table>",
                            "<tr><th>department_id</th><th>avg_salary</th></tr>",
                            "<tr><td>1</td><td>5500</td></tr>",
                            "<tr><td>2</td><td>6500</td></tr>",
                            "<tr><td>3</td><td>5000</td></tr>",
                            "<tr><td>4</td><td>8000</td></tr>",
                            "<tr><td>5</td><td>7000</td></tr>",
                            "</table>"
                        ]
                    }
                }
            ],
            "execution_count": 2
        },
        {
            "cell_type": "markdown",
            "source": [
                "<span style=\"box-sizing: inherit; font-weight: 700; color: rgb(34, 34, 34); font-family: Arial, Helvetica, sans-serif; font-size: 17px; background-color: rgb(255, 255, 255);\">Displaying average salary against each employee record</span>"
            ],
            "metadata": {
                "language": "sql",
                "azdata_cell_guid": "47846fc1-7f01-443c-a51d-2b7c441383ee"
            },
            "attachments": {}
        },
        {
            "cell_type": "code",
            "source": [
                "select employee_id, e.department_id, avg_salary\r\n",
                "from Employees e \r\n",
                "left join (select department_id, avg(salary) as avg_salary\r\n",
                "    from Employees\r\n",
                "    group by department_id) ae \r\n",
                "    on e.department_id = ae.department_id"
            ],
            "metadata": {
                "language": "sql",
                "azdata_cell_guid": "7341c074-3778-4c60-b90e-ca27e5d85ce8"
            },
            "outputs": [
                {
                    "output_type": "display_data",
                    "data": {
                        "text/html": "(10 rows affected)"
                    },
                    "metadata": {}
                },
                {
                    "output_type": "display_data",
                    "data": {
                        "text/html": "Total execution time: 00:00:00.011"
                    },
                    "metadata": {}
                },
                {
                    "output_type": "execute_result",
                    "metadata": {},
                    "execution_count": 5,
                    "data": {
                        "application/vnd.dataresource+json": {
                            "schema": {
                                "fields": [
                                    {
                                        "name": "employee_id"
                                    },
                                    {
                                        "name": "department_id"
                                    },
                                    {
                                        "name": "avg_salary"
                                    }
                                ]
                            },
                            "data": [
                                {
                                    "employee_id": "1",
                                    "department_id": "1",
                                    "avg_salary": "5500"
                                },
                                {
                                    "employee_id": "2",
                                    "department_id": "2",
                                    "avg_salary": "6500"
                                },
                                {
                                    "employee_id": "3",
                                    "department_id": "1",
                                    "avg_salary": "5500"
                                },
                                {
                                    "employee_id": "4",
                                    "department_id": "3",
                                    "avg_salary": "5000"
                                },
                                {
                                    "employee_id": "5",
                                    "department_id": "4",
                                    "avg_salary": "8000"
                                },
                                {
                                    "employee_id": "6",
                                    "department_id": "5",
                                    "avg_salary": "7000"
                                },
                                {
                                    "employee_id": "7",
                                    "department_id": "2",
                                    "avg_salary": "6500"
                                },
                                {
                                    "employee_id": "8",
                                    "department_id": "3",
                                    "avg_salary": "5000"
                                },
                                {
                                    "employee_id": "9",
                                    "department_id": "5",
                                    "avg_salary": "7000"
                                },
                                {
                                    "employee_id": "10",
                                    "department_id": "4",
                                    "avg_salary": "8000"
                                }
                            ]
                        },
                        "text/html": [
                            "<table>",
                            "<tr><th>employee_id</th><th>department_id</th><th>avg_salary</th></tr>",
                            "<tr><td>1</td><td>1</td><td>5500</td></tr>",
                            "<tr><td>2</td><td>2</td><td>6500</td></tr>",
                            "<tr><td>3</td><td>1</td><td>5500</td></tr>",
                            "<tr><td>4</td><td>3</td><td>5000</td></tr>",
                            "<tr><td>5</td><td>4</td><td>8000</td></tr>",
                            "<tr><td>6</td><td>5</td><td>7000</td></tr>",
                            "<tr><td>7</td><td>2</td><td>6500</td></tr>",
                            "<tr><td>8</td><td>3</td><td>5000</td></tr>",
                            "<tr><td>9</td><td>5</td><td>7000</td></tr>",
                            "<tr><td>10</td><td>4</td><td>8000</td></tr>",
                            "</table>"
                        ]
                    }
                }
            ],
            "execution_count": 5
        },
        {
            "cell_type": "code",
            "source": [
                "select employee_id, department_id,\r\n",
                "avg(salary) over (partition by department_id) as avg_salary\r\n",
                "from Employees\r\n",
                "order by employee_id"
            ],
            "metadata": {
                "language": "sql",
                "azdata_cell_guid": "18dde5bf-effc-469a-bfd4-102801b33d5d"
            },
            "outputs": [
                {
                    "output_type": "display_data",
                    "data": {
                        "text/html": "(10 rows affected)"
                    },
                    "metadata": {}
                },
                {
                    "output_type": "display_data",
                    "data": {
                        "text/html": "Total execution time: 00:00:00.010"
                    },
                    "metadata": {}
                },
                {
                    "output_type": "execute_result",
                    "metadata": {},
                    "execution_count": 7,
                    "data": {
                        "application/vnd.dataresource+json": {
                            "schema": {
                                "fields": [
                                    {
                                        "name": "employee_id"
                                    },
                                    {
                                        "name": "department_id"
                                    },
                                    {
                                        "name": "avg_salary"
                                    }
                                ]
                            },
                            "data": [
                                {
                                    "employee_id": "1",
                                    "department_id": "1",
                                    "avg_salary": "5500"
                                },
                                {
                                    "employee_id": "2",
                                    "department_id": "2",
                                    "avg_salary": "6500"
                                },
                                {
                                    "employee_id": "3",
                                    "department_id": "1",
                                    "avg_salary": "5500"
                                },
                                {
                                    "employee_id": "4",
                                    "department_id": "3",
                                    "avg_salary": "5000"
                                },
                                {
                                    "employee_id": "5",
                                    "department_id": "4",
                                    "avg_salary": "8000"
                                },
                                {
                                    "employee_id": "6",
                                    "department_id": "5",
                                    "avg_salary": "7000"
                                },
                                {
                                    "employee_id": "7",
                                    "department_id": "2",
                                    "avg_salary": "6500"
                                },
                                {
                                    "employee_id": "8",
                                    "department_id": "3",
                                    "avg_salary": "5000"
                                },
                                {
                                    "employee_id": "9",
                                    "department_id": "5",
                                    "avg_salary": "7000"
                                },
                                {
                                    "employee_id": "10",
                                    "department_id": "4",
                                    "avg_salary": "8000"
                                }
                            ]
                        },
                        "text/html": [
                            "<table>",
                            "<tr><th>employee_id</th><th>department_id</th><th>avg_salary</th></tr>",
                            "<tr><td>1</td><td>1</td><td>5500</td></tr>",
                            "<tr><td>2</td><td>2</td><td>6500</td></tr>",
                            "<tr><td>3</td><td>1</td><td>5500</td></tr>",
                            "<tr><td>4</td><td>3</td><td>5000</td></tr>",
                            "<tr><td>5</td><td>4</td><td>8000</td></tr>",
                            "<tr><td>6</td><td>5</td><td>7000</td></tr>",
                            "<tr><td>7</td><td>2</td><td>6500</td></tr>",
                            "<tr><td>8</td><td>3</td><td>5000</td></tr>",
                            "<tr><td>9</td><td>5</td><td>7000</td></tr>",
                            "<tr><td>10</td><td>4</td><td>8000</td></tr>",
                            "</table>"
                        ]
                    }
                }
            ],
            "execution_count": 7
        },
        {
            "cell_type": "markdown",
            "source": [
                "## Calculate total sum of salary department wise"
            ],
            "metadata": {
                "azdata_cell_guid": "6076be67-c00e-4e65-971a-e075477289a9"
            },
            "attachments": {}
        },
        {
            "cell_type": "code",
            "source": [
                "select employee_id,\r\n",
                "department_id,\r\n",
                "sum(salary) over (PARTITION by department_id) as sum_salary\r\n",
                "from Employees"
            ],
            "metadata": {
                "language": "sql",
                "azdata_cell_guid": "4cee1b2a-4509-49f7-a8ba-cb53a3f56e56"
            },
            "outputs": [
                {
                    "output_type": "display_data",
                    "data": {
                        "text/html": "(10 rows affected)"
                    },
                    "metadata": {}
                },
                {
                    "output_type": "display_data",
                    "data": {
                        "text/html": "Total execution time: 00:00:00.014"
                    },
                    "metadata": {}
                },
                {
                    "output_type": "execute_result",
                    "metadata": {},
                    "execution_count": 9,
                    "data": {
                        "application/vnd.dataresource+json": {
                            "schema": {
                                "fields": [
                                    {
                                        "name": "employee_id"
                                    },
                                    {
                                        "name": "department_id"
                                    },
                                    {
                                        "name": "sum_salary"
                                    }
                                ]
                            },
                            "data": [
                                {
                                    "employee_id": "3",
                                    "department_id": "1",
                                    "sum_salary": "11000"
                                },
                                {
                                    "employee_id": "1",
                                    "department_id": "1",
                                    "sum_salary": "11000"
                                },
                                {
                                    "employee_id": "2",
                                    "department_id": "2",
                                    "sum_salary": "13000"
                                },
                                {
                                    "employee_id": "7",
                                    "department_id": "2",
                                    "sum_salary": "13000"
                                },
                                {
                                    "employee_id": "8",
                                    "department_id": "3",
                                    "sum_salary": "10000"
                                },
                                {
                                    "employee_id": "4",
                                    "department_id": "3",
                                    "sum_salary": "10000"
                                },
                                {
                                    "employee_id": "5",
                                    "department_id": "4",
                                    "sum_salary": "16000"
                                },
                                {
                                    "employee_id": "10",
                                    "department_id": "4",
                                    "sum_salary": "16000"
                                },
                                {
                                    "employee_id": "6",
                                    "department_id": "5",
                                    "sum_salary": "14000"
                                },
                                {
                                    "employee_id": "9",
                                    "department_id": "5",
                                    "sum_salary": "14000"
                                }
                            ]
                        },
                        "text/html": [
                            "<table>",
                            "<tr><th>employee_id</th><th>department_id</th><th>sum_salary</th></tr>",
                            "<tr><td>3</td><td>1</td><td>11000</td></tr>",
                            "<tr><td>1</td><td>1</td><td>11000</td></tr>",
                            "<tr><td>2</td><td>2</td><td>13000</td></tr>",
                            "<tr><td>7</td><td>2</td><td>13000</td></tr>",
                            "<tr><td>8</td><td>3</td><td>10000</td></tr>",
                            "<tr><td>4</td><td>3</td><td>10000</td></tr>",
                            "<tr><td>5</td><td>4</td><td>16000</td></tr>",
                            "<tr><td>10</td><td>4</td><td>16000</td></tr>",
                            "<tr><td>6</td><td>5</td><td>14000</td></tr>",
                            "<tr><td>9</td><td>5</td><td>14000</td></tr>",
                            "</table>"
                        ]
                    }
                }
            ],
            "execution_count": 9
        },
        {
            "cell_type": "markdown",
            "source": [
                "## Calculate cumulative sum of salary department wise"
            ],
            "metadata": {
                "language": "sql",
                "azdata_cell_guid": "cac7c1eb-455d-4857-a343-652e4b9e74d6"
            },
            "attachments": {}
        },
        {
            "cell_type": "code",
            "source": [
                "SELECT employee_id,\r\n",
                "department_id,\r\n",
                "salary,\r\n",
                "sum(salary) over (PARTITION by department_id order by employee_id) as cum_sum_salary\r\n",
                "from Employees"
            ],
            "metadata": {
                "language": "sql",
                "azdata_cell_guid": "8bab44fe-5a3e-448e-a69d-810e12b4e2dd"
            },
            "outputs": [
                {
                    "output_type": "display_data",
                    "data": {
                        "text/html": "(10 rows affected)"
                    },
                    "metadata": {}
                },
                {
                    "output_type": "display_data",
                    "data": {
                        "text/html": "Total execution time: 00:00:00.015"
                    },
                    "metadata": {}
                },
                {
                    "output_type": "execute_result",
                    "metadata": {},
                    "execution_count": 11,
                    "data": {
                        "application/vnd.dataresource+json": {
                            "schema": {
                                "fields": [
                                    {
                                        "name": "employee_id"
                                    },
                                    {
                                        "name": "department_id"
                                    },
                                    {
                                        "name": "salary"
                                    },
                                    {
                                        "name": "cum_sum_salary"
                                    }
                                ]
                            },
                            "data": [
                                {
                                    "employee_id": "1",
                                    "department_id": "1",
                                    "salary": "5000",
                                    "cum_sum_salary": "5000"
                                },
                                {
                                    "employee_id": "3",
                                    "department_id": "1",
                                    "salary": "6000",
                                    "cum_sum_salary": "11000"
                                },
                                {
                                    "employee_id": "2",
                                    "department_id": "2",
                                    "salary": "10000",
                                    "cum_sum_salary": "10000"
                                },
                                {
                                    "employee_id": "7",
                                    "department_id": "2",
                                    "salary": "3000",
                                    "cum_sum_salary": "13000"
                                },
                                {
                                    "employee_id": "4",
                                    "department_id": "3",
                                    "salary": "5000",
                                    "cum_sum_salary": "5000"
                                },
                                {
                                    "employee_id": "8",
                                    "department_id": "3",
                                    "salary": "5000",
                                    "cum_sum_salary": "10000"
                                },
                                {
                                    "employee_id": "5",
                                    "department_id": "4",
                                    "salary": "8000",
                                    "cum_sum_salary": "8000"
                                },
                                {
                                    "employee_id": "10",
                                    "department_id": "4",
                                    "salary": "8000",
                                    "cum_sum_salary": "16000"
                                },
                                {
                                    "employee_id": "6",
                                    "department_id": "5",
                                    "salary": "7000",
                                    "cum_sum_salary": "7000"
                                },
                                {
                                    "employee_id": "9",
                                    "department_id": "5",
                                    "salary": "7000",
                                    "cum_sum_salary": "14000"
                                }
                            ]
                        },
                        "text/html": [
                            "<table>",
                            "<tr><th>employee_id</th><th>department_id</th><th>salary</th><th>cum_sum_salary</th></tr>",
                            "<tr><td>1</td><td>1</td><td>5000</td><td>5000</td></tr>",
                            "<tr><td>3</td><td>1</td><td>6000</td><td>11000</td></tr>",
                            "<tr><td>2</td><td>2</td><td>10000</td><td>10000</td></tr>",
                            "<tr><td>7</td><td>2</td><td>3000</td><td>13000</td></tr>",
                            "<tr><td>4</td><td>3</td><td>5000</td><td>5000</td></tr>",
                            "<tr><td>8</td><td>3</td><td>5000</td><td>10000</td></tr>",
                            "<tr><td>5</td><td>4</td><td>8000</td><td>8000</td></tr>",
                            "<tr><td>10</td><td>4</td><td>8000</td><td>16000</td></tr>",
                            "<tr><td>6</td><td>5</td><td>7000</td><td>7000</td></tr>",
                            "<tr><td>9</td><td>5</td><td>7000</td><td>14000</td></tr>",
                            "</table>"
                        ]
                    }
                }
            ],
            "execution_count": 11
        },
        {
            "cell_type": "markdown",
            "source": [
                "## Calculate cumulative sum of the organization"
            ],
            "metadata": {
                "language": "sql",
                "azdata_cell_guid": "42e12df7-fbe4-4c0e-b63d-a6332a0189d8"
            },
            "attachments": {}
        },
        {
            "cell_type": "code",
            "source": [
                "select employee_id,\r\n",
                "department_id,\r\n",
                "salary,\r\n",
                "sum(salary) over (order by employee_id) as cum_sum_salary\r\n",
                "from Employees"
            ],
            "metadata": {
                "language": "sql",
                "azdata_cell_guid": "2e148a62-8f14-464e-86a8-77c6d6092619"
            },
            "outputs": [
                {
                    "output_type": "display_data",
                    "data": {
                        "text/html": "(10 rows affected)"
                    },
                    "metadata": {}
                },
                {
                    "output_type": "display_data",
                    "data": {
                        "text/html": "Total execution time: 00:00:00.010"
                    },
                    "metadata": {}
                },
                {
                    "output_type": "execute_result",
                    "metadata": {},
                    "execution_count": 12,
                    "data": {
                        "application/vnd.dataresource+json": {
                            "schema": {
                                "fields": [
                                    {
                                        "name": "employee_id"
                                    },
                                    {
                                        "name": "department_id"
                                    },
                                    {
                                        "name": "salary"
                                    },
                                    {
                                        "name": "cum_sum_salary"
                                    }
                                ]
                            },
                            "data": [
                                {
                                    "employee_id": "1",
                                    "department_id": "1",
                                    "salary": "5000",
                                    "cum_sum_salary": "5000"
                                },
                                {
                                    "employee_id": "2",
                                    "department_id": "2",
                                    "salary": "10000",
                                    "cum_sum_salary": "15000"
                                },
                                {
                                    "employee_id": "3",
                                    "department_id": "1",
                                    "salary": "6000",
                                    "cum_sum_salary": "21000"
                                },
                                {
                                    "employee_id": "4",
                                    "department_id": "3",
                                    "salary": "5000",
                                    "cum_sum_salary": "26000"
                                },
                                {
                                    "employee_id": "5",
                                    "department_id": "4",
                                    "salary": "8000",
                                    "cum_sum_salary": "34000"
                                },
                                {
                                    "employee_id": "6",
                                    "department_id": "5",
                                    "salary": "7000",
                                    "cum_sum_salary": "41000"
                                },
                                {
                                    "employee_id": "7",
                                    "department_id": "2",
                                    "salary": "3000",
                                    "cum_sum_salary": "44000"
                                },
                                {
                                    "employee_id": "8",
                                    "department_id": "3",
                                    "salary": "5000",
                                    "cum_sum_salary": "49000"
                                },
                                {
                                    "employee_id": "9",
                                    "department_id": "5",
                                    "salary": "7000",
                                    "cum_sum_salary": "56000"
                                },
                                {
                                    "employee_id": "10",
                                    "department_id": "4",
                                    "salary": "8000",
                                    "cum_sum_salary": "64000"
                                }
                            ]
                        },
                        "text/html": [
                            "<table>",
                            "<tr><th>employee_id</th><th>department_id</th><th>salary</th><th>cum_sum_salary</th></tr>",
                            "<tr><td>1</td><td>1</td><td>5000</td><td>5000</td></tr>",
                            "<tr><td>2</td><td>2</td><td>10000</td><td>15000</td></tr>",
                            "<tr><td>3</td><td>1</td><td>6000</td><td>21000</td></tr>",
                            "<tr><td>4</td><td>3</td><td>5000</td><td>26000</td></tr>",
                            "<tr><td>5</td><td>4</td><td>8000</td><td>34000</td></tr>",
                            "<tr><td>6</td><td>5</td><td>7000</td><td>41000</td></tr>",
                            "<tr><td>7</td><td>2</td><td>3000</td><td>44000</td></tr>",
                            "<tr><td>8</td><td>3</td><td>5000</td><td>49000</td></tr>",
                            "<tr><td>9</td><td>5</td><td>7000</td><td>56000</td></tr>",
                            "<tr><td>10</td><td>4</td><td>8000</td><td>64000</td></tr>",
                            "</table>"
                        ]
                    }
                }
            ],
            "execution_count": 12
        },
        {
            "cell_type": "markdown",
            "source": [
                "## Calculate Cumulative average of the salary department wise"
            ],
            "metadata": {
                "language": "sql",
                "azdata_cell_guid": "9a328e47-cfdb-4356-a2f0-93449b22c19e"
            },
            "attachments": {}
        },
        {
            "cell_type": "code",
            "source": [
                "select employee_id,\r\n",
                "department_id,\r\n",
                "salary,\r\n",
                "avg(salary) over (PARTITION by department_id order by employee_id) as cum_avg_salary\r\n",
                "from Employees"
            ],
            "metadata": {
                "language": "sql",
                "azdata_cell_guid": "5f83f493-e8c9-441f-b9bf-cb24b9e451bf"
            },
            "outputs": [
                {
                    "output_type": "display_data",
                    "data": {
                        "text/html": "(10 rows affected)"
                    },
                    "metadata": {}
                },
                {
                    "output_type": "display_data",
                    "data": {
                        "text/html": "Total execution time: 00:00:00.009"
                    },
                    "metadata": {}
                },
                {
                    "output_type": "execute_result",
                    "metadata": {},
                    "execution_count": 15,
                    "data": {
                        "application/vnd.dataresource+json": {
                            "schema": {
                                "fields": [
                                    {
                                        "name": "employee_id"
                                    },
                                    {
                                        "name": "department_id"
                                    },
                                    {
                                        "name": "salary"
                                    },
                                    {
                                        "name": "cum_avg_salary"
                                    }
                                ]
                            },
                            "data": [
                                {
                                    "employee_id": "1",
                                    "department_id": "1",
                                    "salary": "5000",
                                    "cum_avg_salary": "5000"
                                },
                                {
                                    "employee_id": "2",
                                    "department_id": "1",
                                    "salary": "10000",
                                    "cum_avg_salary": "7500"
                                },
                                {
                                    "employee_id": "3",
                                    "department_id": "1",
                                    "salary": "6000",
                                    "cum_avg_salary": "7000"
                                },
                                {
                                    "employee_id": "7",
                                    "department_id": "2",
                                    "salary": "3000",
                                    "cum_avg_salary": "3000"
                                },
                                {
                                    "employee_id": "4",
                                    "department_id": "3",
                                    "salary": "5000",
                                    "cum_avg_salary": "5000"
                                },
                                {
                                    "employee_id": "8",
                                    "department_id": "3",
                                    "salary": "5000",
                                    "cum_avg_salary": "5000"
                                },
                                {
                                    "employee_id": "5",
                                    "department_id": "4",
                                    "salary": "8000",
                                    "cum_avg_salary": "8000"
                                },
                                {
                                    "employee_id": "10",
                                    "department_id": "4",
                                    "salary": "8000",
                                    "cum_avg_salary": "8000"
                                },
                                {
                                    "employee_id": "6",
                                    "department_id": "5",
                                    "salary": "7000",
                                    "cum_avg_salary": "7000"
                                },
                                {
                                    "employee_id": "9",
                                    "department_id": "5",
                                    "salary": "7000",
                                    "cum_avg_salary": "7000"
                                }
                            ]
                        },
                        "text/html": [
                            "<table>",
                            "<tr><th>employee_id</th><th>department_id</th><th>salary</th><th>cum_avg_salary</th></tr>",
                            "<tr><td>1</td><td>1</td><td>5000</td><td>5000</td></tr>",
                            "<tr><td>2</td><td>1</td><td>10000</td><td>7500</td></tr>",
                            "<tr><td>3</td><td>1</td><td>6000</td><td>7000</td></tr>",
                            "<tr><td>7</td><td>2</td><td>3000</td><td>3000</td></tr>",
                            "<tr><td>4</td><td>3</td><td>5000</td><td>5000</td></tr>",
                            "<tr><td>8</td><td>3</td><td>5000</td><td>5000</td></tr>",
                            "<tr><td>5</td><td>4</td><td>8000</td><td>8000</td></tr>",
                            "<tr><td>10</td><td>4</td><td>8000</td><td>8000</td></tr>",
                            "<tr><td>6</td><td>5</td><td>7000</td><td>7000</td></tr>",
                            "<tr><td>9</td><td>5</td><td>7000</td><td>7000</td></tr>",
                            "</table>"
                        ]
                    }
                }
            ],
            "execution_count": 15
        },
        {
            "cell_type": "markdown",
            "source": [
                "## Calculate average of salary for current and previous record department wise"
            ],
            "metadata": {
                "language": "sql",
                "azdata_cell_guid": "62c952ca-cf79-440d-8071-d232eedab6f1"
            },
            "attachments": {}
        },
        {
            "cell_type": "code",
            "source": [
                "select employee_id,\r\n",
                "department_id,\r\n",
                "salary,\r\n",
                "avg(salary) over (PARTITION by department_id order by employee_id rows 1 preceding) as avg_salary\r\n",
                "from Employees"
            ],
            "metadata": {
                "language": "sql",
                "azdata_cell_guid": "9b2f8e50-0868-417b-ad7c-72051e178be2",
                "tags": [
                    "hide_input"
                ]
            },
            "outputs": [
                {
                    "output_type": "display_data",
                    "data": {
                        "text/html": "(10 rows affected)"
                    },
                    "metadata": {}
                },
                {
                    "output_type": "display_data",
                    "data": {
                        "text/html": "Total execution time: 00:00:00.009"
                    },
                    "metadata": {}
                },
                {
                    "output_type": "execute_result",
                    "metadata": {},
                    "execution_count": 18,
                    "data": {
                        "application/vnd.dataresource+json": {
                            "schema": {
                                "fields": [
                                    {
                                        "name": "employee_id"
                                    },
                                    {
                                        "name": "department_id"
                                    },
                                    {
                                        "name": "salary"
                                    },
                                    {
                                        "name": "avg_salary"
                                    }
                                ]
                            },
                            "data": [
                                {
                                    "employee_id": "1",
                                    "department_id": "1",
                                    "salary": "5000",
                                    "avg_salary": "5000"
                                },
                                {
                                    "employee_id": "2",
                                    "department_id": "1",
                                    "salary": "10000",
                                    "avg_salary": "7500"
                                },
                                {
                                    "employee_id": "3",
                                    "department_id": "1",
                                    "salary": "6000",
                                    "avg_salary": "8000"
                                },
                                {
                                    "employee_id": "7",
                                    "department_id": "2",
                                    "salary": "3000",
                                    "avg_salary": "3000"
                                },
                                {
                                    "employee_id": "4",
                                    "department_id": "3",
                                    "salary": "5000",
                                    "avg_salary": "5000"
                                },
                                {
                                    "employee_id": "8",
                                    "department_id": "3",
                                    "salary": "4500",
                                    "avg_salary": "4750"
                                },
                                {
                                    "employee_id": "5",
                                    "department_id": "4",
                                    "salary": "8000",
                                    "avg_salary": "8000"
                                },
                                {
                                    "employee_id": "10",
                                    "department_id": "4",
                                    "salary": "3000",
                                    "avg_salary": "5500"
                                },
                                {
                                    "employee_id": "6",
                                    "department_id": "5",
                                    "salary": "4000",
                                    "avg_salary": "4000"
                                },
                                {
                                    "employee_id": "9",
                                    "department_id": "5",
                                    "salary": "7000",
                                    "avg_salary": "5500"
                                }
                            ]
                        },
                        "text/html": [
                            "<table>",
                            "<tr><th>employee_id</th><th>department_id</th><th>salary</th><th>avg_salary</th></tr>",
                            "<tr><td>1</td><td>1</td><td>5000</td><td>5000</td></tr>",
                            "<tr><td>2</td><td>1</td><td>10000</td><td>7500</td></tr>",
                            "<tr><td>3</td><td>1</td><td>6000</td><td>8000</td></tr>",
                            "<tr><td>7</td><td>2</td><td>3000</td><td>3000</td></tr>",
                            "<tr><td>4</td><td>3</td><td>5000</td><td>5000</td></tr>",
                            "<tr><td>8</td><td>3</td><td>4500</td><td>4750</td></tr>",
                            "<tr><td>5</td><td>4</td><td>8000</td><td>8000</td></tr>",
                            "<tr><td>10</td><td>4</td><td>3000</td><td>5500</td></tr>",
                            "<tr><td>6</td><td>5</td><td>4000</td><td>4000</td></tr>",
                            "<tr><td>9</td><td>5</td><td>7000</td><td>5500</td></tr>",
                            "</table>"
                        ]
                    }
                }
            ],
            "execution_count": 18
        },
        {
            "cell_type": "markdown",
            "source": [
                "## Find the oldest joinee department wise using LAG Analytic function"
            ],
            "metadata": {
                "language": "sql",
                "azdata_cell_guid": "e0a45497-7e2e-46ea-b951-c17fcfbbdecb"
            },
            "attachments": {}
        },
        {
            "cell_type": "code",
            "source": [
                "alter table Employees add hire_date DATE;"
            ],
            "metadata": {
                "language": "sql",
                "azdata_cell_guid": "811f3656-76a9-4e23-9098-c9fb2ea41149"
            },
            "outputs": [
                {
                    "output_type": "display_data",
                    "data": {
                        "text/html": "Commands completed successfully."
                    },
                    "metadata": {}
                },
                {
                    "output_type": "display_data",
                    "data": {
                        "text/html": "Total execution time: 00:00:00.172"
                    },
                    "metadata": {}
                }
            ],
            "execution_count": 19
        },
        {
            "cell_type": "code",
            "source": [
                "select * \r\n",
                "from\r\n",
                "(select employee_id,\r\n",
                "department_id,\r\n",
                "hire_date,\r\n",
                "lag(hire_date) over (partition by department_id order by hire_date) as last_hire_date\r\n",
                "from Employees) e\r\n",
                "where last_hire_date is null;"
            ],
            "metadata": {
                "language": "sql",
                "azdata_cell_guid": "8a770d90-053c-4b65-9654-a9f11aa46ff5"
            },
            "outputs": [
                {
                    "output_type": "display_data",
                    "data": {
                        "text/html": "(5 rows affected)"
                    },
                    "metadata": {}
                },
                {
                    "output_type": "display_data",
                    "data": {
                        "text/html": "Total execution time: 00:00:00.011"
                    },
                    "metadata": {}
                },
                {
                    "output_type": "execute_result",
                    "metadata": {},
                    "execution_count": 24,
                    "data": {
                        "application/vnd.dataresource+json": {
                            "schema": {
                                "fields": [
                                    {
                                        "name": "employee_id"
                                    },
                                    {
                                        "name": "department_id"
                                    },
                                    {
                                        "name": "hire_date"
                                    },
                                    {
                                        "name": "last_hire_date"
                                    }
                                ]
                            },
                            "data": [
                                {
                                    "employee_id": "3",
                                    "department_id": "1",
                                    "hire_date": "2018-03-03",
                                    "last_hire_date": "NULL"
                                },
                                {
                                    "employee_id": "7",
                                    "department_id": "2",
                                    "hire_date": "2023-10-03",
                                    "last_hire_date": "NULL"
                                },
                                {
                                    "employee_id": "8",
                                    "department_id": "3",
                                    "hire_date": "2018-05-13",
                                    "last_hire_date": "NULL"
                                },
                                {
                                    "employee_id": "10",
                                    "department_id": "4",
                                    "hire_date": "2016-10-03",
                                    "last_hire_date": "NULL"
                                },
                                {
                                    "employee_id": "9",
                                    "department_id": "5",
                                    "hire_date": "2020-09-19",
                                    "last_hire_date": "NULL"
                                }
                            ]
                        },
                        "text/html": [
                            "<table>",
                            "<tr><th>employee_id</th><th>department_id</th><th>hire_date</th><th>last_hire_date</th></tr>",
                            "<tr><td>3</td><td>1</td><td>2018-03-03</td><td>NULL</td></tr>",
                            "<tr><td>7</td><td>2</td><td>2023-10-03</td><td>NULL</td></tr>",
                            "<tr><td>8</td><td>3</td><td>2018-05-13</td><td>NULL</td></tr>",
                            "<tr><td>10</td><td>4</td><td>2016-10-03</td><td>NULL</td></tr>",
                            "<tr><td>9</td><td>5</td><td>2020-09-19</td><td>NULL</td></tr>",
                            "</table>"
                        ]
                    }
                }
            ],
            "execution_count": 24
        },
        {
            "cell_type": "markdown",
            "source": [
                "## Find the newest joinee department wise using LAG Analytic function"
            ],
            "metadata": {
                "azdata_cell_guid": "166b8668-f135-46ff-8af8-d346673760f8"
            },
            "attachments": {}
        },
        {
            "cell_type": "code",
            "source": [
                "select * \r\n",
                "from (select employee_id,\r\n",
                "department_id,\r\n",
                "hire_date,\r\n",
                "lag(hire_date) over (partition by department_id order by hire_date desc) as new_hire_date\r\n",
                "from Employees) eh\r\n",
                "where new_hire_date is null;"
            ],
            "metadata": {
                "azdata_cell_guid": "66cd8e64-3db2-4eeb-8057-064b68a66c35",
                "language": "sql"
            },
            "outputs": [
                {
                    "output_type": "display_data",
                    "data": {
                        "text/html": "(5 rows affected)"
                    },
                    "metadata": {}
                },
                {
                    "output_type": "display_data",
                    "data": {
                        "text/html": "Total execution time: 00:00:00.011"
                    },
                    "metadata": {}
                },
                {
                    "output_type": "execute_result",
                    "metadata": {},
                    "execution_count": 26,
                    "data": {
                        "application/vnd.dataresource+json": {
                            "schema": {
                                "fields": [
                                    {
                                        "name": "employee_id"
                                    },
                                    {
                                        "name": "department_id"
                                    },
                                    {
                                        "name": "hire_date"
                                    },
                                    {
                                        "name": "new_hire_date"
                                    }
                                ]
                            },
                            "data": [
                                {
                                    "employee_id": "2",
                                    "department_id": "1",
                                    "hire_date": "2019-09-05",
                                    "new_hire_date": "NULL"
                                },
                                {
                                    "employee_id": "7",
                                    "department_id": "2",
                                    "hire_date": "2023-10-03",
                                    "new_hire_date": "NULL"
                                },
                                {
                                    "employee_id": "4",
                                    "department_id": "3",
                                    "hire_date": "2020-01-23",
                                    "new_hire_date": "NULL"
                                },
                                {
                                    "employee_id": "5",
                                    "department_id": "4",
                                    "hire_date": "2023-01-16",
                                    "new_hire_date": "NULL"
                                },
                                {
                                    "employee_id": "6",
                                    "department_id": "5",
                                    "hire_date": "2021-05-06",
                                    "new_hire_date": "NULL"
                                }
                            ]
                        },
                        "text/html": [
                            "<table>",
                            "<tr><th>employee_id</th><th>department_id</th><th>hire_date</th><th>new_hire_date</th></tr>",
                            "<tr><td>2</td><td>1</td><td>2019-09-05</td><td>NULL</td></tr>",
                            "<tr><td>7</td><td>2</td><td>2023-10-03</td><td>NULL</td></tr>",
                            "<tr><td>4</td><td>3</td><td>2020-01-23</td><td>NULL</td></tr>",
                            "<tr><td>5</td><td>4</td><td>2023-01-16</td><td>NULL</td></tr>",
                            "<tr><td>6</td><td>5</td><td>2021-05-06</td><td>NULL</td></tr>",
                            "</table>"
                        ]
                    }
                }
            ],
            "execution_count": 26
        },
        {
            "cell_type": "markdown",
            "source": [
                "## Find the oldest joinee department wise using LEAD Analytic function"
            ],
            "metadata": {
                "language": "sql",
                "azdata_cell_guid": "c2509c62-9b31-40f1-ad22-85470bd71c48"
            },
            "attachments": {}
        },
        {
            "cell_type": "code",
            "source": [
                "select * from (select employee_id,\r\n",
                "department_id,\r\n",
                "hire_date,\r\n",
                "lead(hire_date) over (PARTITION by department_id order by hire_date desc) as new_hire_date\r\n",
                "from Employees) el \r\n",
                "where new_hire_date is null"
            ],
            "metadata": {
                "language": "sql",
                "azdata_cell_guid": "8f54f7cf-8358-4877-bca4-ec7c53272e66"
            },
            "outputs": [
                {
                    "output_type": "display_data",
                    "data": {
                        "text/html": "(5 rows affected)"
                    },
                    "metadata": {}
                },
                {
                    "output_type": "display_data",
                    "data": {
                        "text/html": "Total execution time: 00:00:00.010"
                    },
                    "metadata": {}
                },
                {
                    "output_type": "execute_result",
                    "metadata": {},
                    "execution_count": 29,
                    "data": {
                        "application/vnd.dataresource+json": {
                            "schema": {
                                "fields": [
                                    {
                                        "name": "employee_id"
                                    },
                                    {
                                        "name": "department_id"
                                    },
                                    {
                                        "name": "hire_date"
                                    },
                                    {
                                        "name": "new_hire_date"
                                    }
                                ]
                            },
                            "data": [
                                {
                                    "employee_id": "3",
                                    "department_id": "1",
                                    "hire_date": "2018-03-03",
                                    "new_hire_date": "NULL"
                                },
                                {
                                    "employee_id": "7",
                                    "department_id": "2",
                                    "hire_date": "2023-10-03",
                                    "new_hire_date": "NULL"
                                },
                                {
                                    "employee_id": "8",
                                    "department_id": "3",
                                    "hire_date": "2018-05-13",
                                    "new_hire_date": "NULL"
                                },
                                {
                                    "employee_id": "10",
                                    "department_id": "4",
                                    "hire_date": "2016-10-03",
                                    "new_hire_date": "NULL"
                                },
                                {
                                    "employee_id": "9",
                                    "department_id": "5",
                                    "hire_date": "2020-09-19",
                                    "new_hire_date": "NULL"
                                }
                            ]
                        },
                        "text/html": [
                            "<table>",
                            "<tr><th>employee_id</th><th>department_id</th><th>hire_date</th><th>new_hire_date</th></tr>",
                            "<tr><td>3</td><td>1</td><td>2018-03-03</td><td>NULL</td></tr>",
                            "<tr><td>7</td><td>2</td><td>2023-10-03</td><td>NULL</td></tr>",
                            "<tr><td>8</td><td>3</td><td>2018-05-13</td><td>NULL</td></tr>",
                            "<tr><td>10</td><td>4</td><td>2016-10-03</td><td>NULL</td></tr>",
                            "<tr><td>9</td><td>5</td><td>2020-09-19</td><td>NULL</td></tr>",
                            "</table>"
                        ]
                    }
                }
            ],
            "execution_count": 29
        },
        {
            "cell_type": "markdown",
            "source": [
                "## Find the newest joinee department wise using LEAD Analytic function"
            ],
            "metadata": {
                "language": "sql",
                "azdata_cell_guid": "aed4179a-f1fe-4820-b002-0c6a9a2cab22"
            },
            "attachments": {}
        },
        {
            "cell_type": "code",
            "source": [
                "select * \r\n",
                "from (select employee_id,\r\n",
                "department_id,\r\n",
                "hire_date,\r\n",
                "lead(hire_date) over (partition by department_id order by hire_date) as new_hire_date\r\n",
                "from Employees) el \r\n",
                "where new_hire_date is null;"
            ],
            "metadata": {
                "language": "sql",
                "azdata_cell_guid": "1d5792c3-0df7-472b-9487-b58bc6a993cc"
            },
            "outputs": [
                {
                    "output_type": "display_data",
                    "data": {
                        "text/html": "(5 rows affected)"
                    },
                    "metadata": {}
                },
                {
                    "output_type": "display_data",
                    "data": {
                        "text/html": "Total execution time: 00:00:00.011"
                    },
                    "metadata": {}
                },
                {
                    "output_type": "execute_result",
                    "metadata": {},
                    "execution_count": 31,
                    "data": {
                        "application/vnd.dataresource+json": {
                            "schema": {
                                "fields": [
                                    {
                                        "name": "employee_id"
                                    },
                                    {
                                        "name": "department_id"
                                    },
                                    {
                                        "name": "hire_date"
                                    },
                                    {
                                        "name": "new_hire_date"
                                    }
                                ]
                            },
                            "data": [
                                {
                                    "employee_id": "2",
                                    "department_id": "1",
                                    "hire_date": "2019-09-05",
                                    "new_hire_date": "NULL"
                                },
                                {
                                    "employee_id": "7",
                                    "department_id": "2",
                                    "hire_date": "2023-10-03",
                                    "new_hire_date": "NULL"
                                },
                                {
                                    "employee_id": "4",
                                    "department_id": "3",
                                    "hire_date": "2020-01-23",
                                    "new_hire_date": "NULL"
                                },
                                {
                                    "employee_id": "5",
                                    "department_id": "4",
                                    "hire_date": "2023-01-16",
                                    "new_hire_date": "NULL"
                                },
                                {
                                    "employee_id": "6",
                                    "department_id": "5",
                                    "hire_date": "2021-05-06",
                                    "new_hire_date": "NULL"
                                }
                            ]
                        },
                        "text/html": [
                            "<table>",
                            "<tr><th>employee_id</th><th>department_id</th><th>hire_date</th><th>new_hire_date</th></tr>",
                            "<tr><td>2</td><td>1</td><td>2019-09-05</td><td>NULL</td></tr>",
                            "<tr><td>7</td><td>2</td><td>2023-10-03</td><td>NULL</td></tr>",
                            "<tr><td>4</td><td>3</td><td>2020-01-23</td><td>NULL</td></tr>",
                            "<tr><td>5</td><td>4</td><td>2023-01-16</td><td>NULL</td></tr>",
                            "<tr><td>6</td><td>5</td><td>2021-05-06</td><td>NULL</td></tr>",
                            "</table>"
                        ]
                    }
                }
            ],
            "execution_count": 31
        },
        {
            "cell_type": "markdown",
            "source": [
                "### Find employee with MAX salary department wise"
            ],
            "metadata": {
                "language": "sql",
                "azdata_cell_guid": "7bb27a31-4f1d-4a2c-aa04-c5f632781fde"
            },
            "attachments": {}
        },
        {
            "cell_type": "code",
            "source": [
                "select *\r\n",
                "from (select employee_id,\r\n",
                "department_id,\r\n",
                "salary,\r\n",
                "rank() over (partition by department_id order by salary desc) as max_salary\r\n",
                "from Employees) em\r\n",
                "where max_salary = 1"
            ],
            "metadata": {
                "language": "sql",
                "azdata_cell_guid": "06e1a6ea-fa5e-4568-b37c-fa1ded76f762"
            },
            "outputs": [
                {
                    "output_type": "display_data",
                    "data": {
                        "text/html": "(5 rows affected)"
                    },
                    "metadata": {}
                },
                {
                    "output_type": "display_data",
                    "data": {
                        "text/html": "Total execution time: 00:00:00.011"
                    },
                    "metadata": {}
                },
                {
                    "output_type": "execute_result",
                    "metadata": {},
                    "execution_count": 37,
                    "data": {
                        "application/vnd.dataresource+json": {
                            "schema": {
                                "fields": [
                                    {
                                        "name": "employee_id"
                                    },
                                    {
                                        "name": "department_id"
                                    },
                                    {
                                        "name": "salary"
                                    },
                                    {
                                        "name": "max_salary"
                                    }
                                ]
                            },
                            "data": [
                                {
                                    "employee_id": "2",
                                    "department_id": "1",
                                    "salary": "10000",
                                    "max_salary": "1"
                                },
                                {
                                    "employee_id": "7",
                                    "department_id": "2",
                                    "salary": "3000",
                                    "max_salary": "1"
                                },
                                {
                                    "employee_id": "4",
                                    "department_id": "3",
                                    "salary": "5000",
                                    "max_salary": "1"
                                },
                                {
                                    "employee_id": "5",
                                    "department_id": "4",
                                    "salary": "8000",
                                    "max_salary": "1"
                                },
                                {
                                    "employee_id": "9",
                                    "department_id": "5",
                                    "salary": "7000",
                                    "max_salary": "1"
                                }
                            ]
                        },
                        "text/html": [
                            "<table>",
                            "<tr><th>employee_id</th><th>department_id</th><th>salary</th><th>max_salary</th></tr>",
                            "<tr><td>2</td><td>1</td><td>10000</td><td>1</td></tr>",
                            "<tr><td>7</td><td>2</td><td>3000</td><td>1</td></tr>",
                            "<tr><td>4</td><td>3</td><td>5000</td><td>1</td></tr>",
                            "<tr><td>5</td><td>4</td><td>8000</td><td>1</td></tr>",
                            "<tr><td>9</td><td>5</td><td>7000</td><td>1</td></tr>",
                            "</table>"
                        ]
                    }
                }
            ],
            "execution_count": 37
        },
        {
            "cell_type": "markdown",
            "source": [
                "### Find employee with MIN salary department wise"
            ],
            "metadata": {
                "language": "sql",
                "azdata_cell_guid": "09cb6176-d53f-464c-b2d5-961bda42ab0a"
            },
            "attachments": {}
        },
        {
            "cell_type": "code",
            "source": [
                "select * \r\n",
                "from (select employee_id,\r\n",
                "department_id,\r\n",
                "salary,\r\n",
                "rank() over (partition by department_id order by salary) as min_salary\r\n",
                "from Employees) em\r\n",
                "where min_salary = 1"
            ],
            "metadata": {
                "language": "sql",
                "azdata_cell_guid": "a6553085-b478-4673-b7fb-b5e572b62f50"
            },
            "outputs": [
                {
                    "output_type": "display_data",
                    "data": {
                        "text/html": "(5 rows affected)"
                    },
                    "metadata": {}
                },
                {
                    "output_type": "display_data",
                    "data": {
                        "text/html": "Total execution time: 00:00:00.011"
                    },
                    "metadata": {}
                },
                {
                    "output_type": "execute_result",
                    "metadata": {},
                    "execution_count": 39,
                    "data": {
                        "application/vnd.dataresource+json": {
                            "schema": {
                                "fields": [
                                    {
                                        "name": "employee_id"
                                    },
                                    {
                                        "name": "department_id"
                                    },
                                    {
                                        "name": "salary"
                                    },
                                    {
                                        "name": "min_salary"
                                    }
                                ]
                            },
                            "data": [
                                {
                                    "employee_id": "1",
                                    "department_id": "1",
                                    "salary": "5000",
                                    "min_salary": "1"
                                },
                                {
                                    "employee_id": "7",
                                    "department_id": "2",
                                    "salary": "3000",
                                    "min_salary": "1"
                                },
                                {
                                    "employee_id": "8",
                                    "department_id": "3",
                                    "salary": "4500",
                                    "min_salary": "1"
                                },
                                {
                                    "employee_id": "10",
                                    "department_id": "4",
                                    "salary": "3000",
                                    "min_salary": "1"
                                },
                                {
                                    "employee_id": "6",
                                    "department_id": "5",
                                    "salary": "4000",
                                    "min_salary": "1"
                                }
                            ]
                        },
                        "text/html": [
                            "<table>",
                            "<tr><th>employee_id</th><th>department_id</th><th>salary</th><th>min_salary</th></tr>",
                            "<tr><td>1</td><td>1</td><td>5000</td><td>1</td></tr>",
                            "<tr><td>7</td><td>2</td><td>3000</td><td>1</td></tr>",
                            "<tr><td>8</td><td>3</td><td>4500</td><td>1</td></tr>",
                            "<tr><td>10</td><td>4</td><td>3000</td><td>1</td></tr>",
                            "<tr><td>6</td><td>5</td><td>4000</td><td>1</td></tr>",
                            "</table>"
                        ]
                    }
                }
            ],
            "execution_count": 39
        },
        {
            "cell_type": "markdown",
            "source": [
                "## Find the difference between the salary of an employee and max salary of the employee in the department"
            ],
            "metadata": {
                "language": "sql",
                "azdata_cell_guid": "1e7b578a-af39-4e40-849e-308460334b15"
            },
            "attachments": {}
        },
        {
            "cell_type": "code",
            "source": [
                "select employee_id, department_id, salary,\r\n",
                "max(salary) over (partition by department_id) as max_salary,\r\n",
                "(max(salary) over (partition by department_id)-salary) as diff_salary\r\n",
                "from Employees\r\n",
                "order by employee_id"
            ],
            "metadata": {
                "language": "sql",
                "azdata_cell_guid": "afd47236-65b7-4640-9b82-302e97d978ad"
            },
            "outputs": [
                {
                    "output_type": "display_data",
                    "data": {
                        "text/html": "(10 rows affected)"
                    },
                    "metadata": {}
                },
                {
                    "output_type": "display_data",
                    "data": {
                        "text/html": "Total execution time: 00:00:00.011"
                    },
                    "metadata": {}
                },
                {
                    "output_type": "execute_result",
                    "metadata": {},
                    "execution_count": 46,
                    "data": {
                        "application/vnd.dataresource+json": {
                            "schema": {
                                "fields": [
                                    {
                                        "name": "employee_id"
                                    },
                                    {
                                        "name": "department_id"
                                    },
                                    {
                                        "name": "salary"
                                    },
                                    {
                                        "name": "max_salary"
                                    },
                                    {
                                        "name": "diff_salary"
                                    }
                                ]
                            },
                            "data": [
                                {
                                    "employee_id": "1",
                                    "department_id": "1",
                                    "salary": "5000",
                                    "max_salary": "10000",
                                    "diff_salary": "5000"
                                },
                                {
                                    "employee_id": "2",
                                    "department_id": "1",
                                    "salary": "10000",
                                    "max_salary": "10000",
                                    "diff_salary": "0"
                                },
                                {
                                    "employee_id": "3",
                                    "department_id": "1",
                                    "salary": "6000",
                                    "max_salary": "10000",
                                    "diff_salary": "4000"
                                },
                                {
                                    "employee_id": "4",
                                    "department_id": "3",
                                    "salary": "5000",
                                    "max_salary": "5000",
                                    "diff_salary": "0"
                                },
                                {
                                    "employee_id": "5",
                                    "department_id": "4",
                                    "salary": "8000",
                                    "max_salary": "8000",
                                    "diff_salary": "0"
                                },
                                {
                                    "employee_id": "6",
                                    "department_id": "5",
                                    "salary": "4000",
                                    "max_salary": "7000",
                                    "diff_salary": "3000"
                                },
                                {
                                    "employee_id": "7",
                                    "department_id": "2",
                                    "salary": "3000",
                                    "max_salary": "3000",
                                    "diff_salary": "0"
                                },
                                {
                                    "employee_id": "8",
                                    "department_id": "3",
                                    "salary": "4500",
                                    "max_salary": "5000",
                                    "diff_salary": "500"
                                },
                                {
                                    "employee_id": "9",
                                    "department_id": "5",
                                    "salary": "7000",
                                    "max_salary": "7000",
                                    "diff_salary": "0"
                                },
                                {
                                    "employee_id": "10",
                                    "department_id": "4",
                                    "salary": "3000",
                                    "max_salary": "8000",
                                    "diff_salary": "5000"
                                }
                            ]
                        },
                        "text/html": [
                            "<table>",
                            "<tr><th>employee_id</th><th>department_id</th><th>salary</th><th>max_salary</th><th>diff_salary</th></tr>",
                            "<tr><td>1</td><td>1</td><td>5000</td><td>10000</td><td>5000</td></tr>",
                            "<tr><td>2</td><td>1</td><td>10000</td><td>10000</td><td>0</td></tr>",
                            "<tr><td>3</td><td>1</td><td>6000</td><td>10000</td><td>4000</td></tr>",
                            "<tr><td>4</td><td>3</td><td>5000</td><td>5000</td><td>0</td></tr>",
                            "<tr><td>5</td><td>4</td><td>8000</td><td>8000</td><td>0</td></tr>",
                            "<tr><td>6</td><td>5</td><td>4000</td><td>7000</td><td>3000</td></tr>",
                            "<tr><td>7</td><td>2</td><td>3000</td><td>3000</td><td>0</td></tr>",
                            "<tr><td>8</td><td>3</td><td>4500</td><td>5000</td><td>500</td></tr>",
                            "<tr><td>9</td><td>5</td><td>7000</td><td>7000</td><td>0</td></tr>",
                            "<tr><td>10</td><td>4</td><td>3000</td><td>8000</td><td>5000</td></tr>",
                            "</table>"
                        ]
                    }
                }
            ],
            "execution_count": 46
        },
        {
            "cell_type": "markdown",
            "source": [
                "## Find employee with MAX salary department wise without using RANK or DENSE\\_RANK"
            ],
            "metadata": {
                "language": "sql",
                "azdata_cell_guid": "70dd99c9-0a34-47db-be7e-239c7cdee79b"
            },
            "attachments": {}
        },
        {
            "cell_type": "code",
            "source": [
                "select * \r\n",
                "from (select employee_id, department_id, salary,\r\n",
                "max(salary) over (partition by department_id) as max_salary,\r\n",
                "(max(salary) over (partition by department_id)-salary) as diff_salary\r\n",
                "from Employees) em\r\n",
                "where diff_salary = 0"
            ],
            "metadata": {
                "language": "sql",
                "azdata_cell_guid": "a7a2d435-d33e-4270-a450-b24721bf564d"
            },
            "outputs": [
                {
                    "output_type": "display_data",
                    "data": {
                        "text/html": "(5 rows affected)"
                    },
                    "metadata": {}
                },
                {
                    "output_type": "display_data",
                    "data": {
                        "text/html": "Total execution time: 00:00:00.011"
                    },
                    "metadata": {}
                },
                {
                    "output_type": "execute_result",
                    "metadata": {},
                    "execution_count": 49,
                    "data": {
                        "application/vnd.dataresource+json": {
                            "schema": {
                                "fields": [
                                    {
                                        "name": "employee_id"
                                    },
                                    {
                                        "name": "department_id"
                                    },
                                    {
                                        "name": "salary"
                                    },
                                    {
                                        "name": "max_salary"
                                    },
                                    {
                                        "name": "diff_salary"
                                    }
                                ]
                            },
                            "data": [
                                {
                                    "employee_id": "2",
                                    "department_id": "1",
                                    "salary": "10000",
                                    "max_salary": "10000",
                                    "diff_salary": "0"
                                },
                                {
                                    "employee_id": "7",
                                    "department_id": "2",
                                    "salary": "3000",
                                    "max_salary": "3000",
                                    "diff_salary": "0"
                                },
                                {
                                    "employee_id": "4",
                                    "department_id": "3",
                                    "salary": "5000",
                                    "max_salary": "5000",
                                    "diff_salary": "0"
                                },
                                {
                                    "employee_id": "5",
                                    "department_id": "4",
                                    "salary": "8000",
                                    "max_salary": "8000",
                                    "diff_salary": "0"
                                },
                                {
                                    "employee_id": "9",
                                    "department_id": "5",
                                    "salary": "7000",
                                    "max_salary": "7000",
                                    "diff_salary": "0"
                                }
                            ]
                        },
                        "text/html": [
                            "<table>",
                            "<tr><th>employee_id</th><th>department_id</th><th>salary</th><th>max_salary</th><th>diff_salary</th></tr>",
                            "<tr><td>2</td><td>1</td><td>10000</td><td>10000</td><td>0</td></tr>",
                            "<tr><td>7</td><td>2</td><td>3000</td><td>3000</td><td>0</td></tr>",
                            "<tr><td>4</td><td>3</td><td>5000</td><td>5000</td><td>0</td></tr>",
                            "<tr><td>5</td><td>4</td><td>8000</td><td>8000</td><td>0</td></tr>",
                            "<tr><td>9</td><td>5</td><td>7000</td><td>7000</td><td>0</td></tr>",
                            "</table>"
                        ]
                    }
                }
            ],
            "execution_count": 49
        }
    ]
}