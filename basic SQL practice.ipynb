{
    "metadata": {
        "kernelspec": {
            "name": "SQL",
            "display_name": "SQL",
            "language": "sql"
        },
        "language_info": {
            "name": "sql",
            "version": ""
        }
    },
    "nbformat_minor": 2,
    "nbformat": 4,
    "cells": [
        {
            "cell_type": "code",
            "source": [
                "Drop table if EXISTS Employees;\r\n",
                "CREATE TABLE Employees (\r\n",
                "  employee_id INT PRIMARY KEY,\r\n",
                "  first_name VARCHAR(50),\r\n",
                "  last_name VARCHAR(50),\r\n",
                "  department_id INT,\r\n",
                "  salary int\r\n",
                ");\r\n",
                "Drop table if EXISTS Departments;\r\n",
                "CREATE TABLE Departments (\r\n",
                "  department_id INT PRIMARY KEY,\r\n",
                "  department_name VARCHAR(50)\r\n",
                ");"
            ],
            "metadata": {
                "azdata_cell_guid": "9cb24fb5-3712-4334-8c45-8b37730cacff",
                "language": "sql"
            },
            "outputs": [
                {
                    "output_type": "display_data",
                    "data": {
                        "text/html": "Commands completed successfully."
                    },
                    "metadata": {}
                },
                {
                    "output_type": "display_data",
                    "data": {
                        "text/html": "Total execution time: 00:00:00.036"
                    },
                    "metadata": {}
                }
            ],
            "execution_count": 14
        },
        {
            "cell_type": "code",
            "source": [
                "-- Inserting dummy data into the Departments table\r\n",
                "INSERT INTO Departments (department_id, department_name)\r\n",
                "VALUES\r\n",
                "  (1, 'Sales'),\r\n",
                "  (2, 'Marketing'),\r\n",
                "  (3, 'Finance'),\r\n",
                "  (4, 'Human Resources'),\r\n",
                "  (5, 'IT');\r\n",
                "\r\n",
                "-- Inserting dummy data into the Employees table\r\n",
                "INSERT INTO Employees (employee_id, first_name, last_name, department_id, salary)\r\n",
                "VALUES\r\n",
                "  (1, 'John', 'Doe', 1, 5000),\r\n",
                "  (2, 'Jane', 'Smith', 2, 10000),\r\n",
                "  (3, 'Mike', 'Johnson', 1, 6000),\r\n",
                "  (4, 'Emily', 'Williams', 3, 5000),\r\n",
                "  (5, 'David', 'Brown', 4, 8000),\r\n",
                "  (6, 'Sarah', 'Miller', 5, 7000);\r\n",
                ""
            ],
            "metadata": {
                "azdata_cell_guid": "93b53e53-9248-4ef9-8e9f-43daac9f61c2",
                "language": "sql"
            },
            "outputs": [
                {
                    "output_type": "display_data",
                    "data": {
                        "text/html": "(5 rows affected)"
                    },
                    "metadata": {}
                },
                {
                    "output_type": "display_data",
                    "data": {
                        "text/html": "(6 rows affected)"
                    },
                    "metadata": {}
                },
                {
                    "output_type": "display_data",
                    "data": {
                        "text/html": "Total execution time: 00:00:00.046"
                    },
                    "metadata": {}
                }
            ],
            "execution_count": 17
        },
        {
            "cell_type": "code",
            "source": [
                "select * from Employees"
            ],
            "metadata": {
                "language": "sql",
                "azdata_cell_guid": "6aa7f30d-8e60-4d09-ad01-8de3575eff89"
            },
            "outputs": [
                {
                    "output_type": "display_data",
                    "data": {
                        "text/html": "(6 rows affected)"
                    },
                    "metadata": {}
                },
                {
                    "output_type": "display_data",
                    "data": {
                        "text/html": "Total execution time: 00:00:00.010"
                    },
                    "metadata": {}
                },
                {
                    "output_type": "execute_result",
                    "metadata": {},
                    "execution_count": 18,
                    "data": {
                        "application/vnd.dataresource+json": {
                            "schema": {
                                "fields": [
                                    {
                                        "name": "employee_id"
                                    },
                                    {
                                        "name": "first_name"
                                    },
                                    {
                                        "name": "last_name"
                                    },
                                    {
                                        "name": "department_id"
                                    },
                                    {
                                        "name": "salary"
                                    }
                                ]
                            },
                            "data": [
                                {
                                    "employee_id": "1",
                                    "first_name": "John",
                                    "last_name": "Doe",
                                    "department_id": "1",
                                    "salary": "5000"
                                },
                                {
                                    "employee_id": "2",
                                    "first_name": "Jane",
                                    "last_name": "Smith",
                                    "department_id": "2",
                                    "salary": "10000"
                                },
                                {
                                    "employee_id": "3",
                                    "first_name": "Mike",
                                    "last_name": "Johnson",
                                    "department_id": "1",
                                    "salary": "6000"
                                },
                                {
                                    "employee_id": "4",
                                    "first_name": "Emily",
                                    "last_name": "Williams",
                                    "department_id": "3",
                                    "salary": "5000"
                                },
                                {
                                    "employee_id": "5",
                                    "first_name": "David",
                                    "last_name": "Brown",
                                    "department_id": "4",
                                    "salary": "8000"
                                },
                                {
                                    "employee_id": "6",
                                    "first_name": "Sarah",
                                    "last_name": "Miller",
                                    "department_id": "5",
                                    "salary": "7000"
                                }
                            ]
                        },
                        "text/html": [
                            "<table>",
                            "<tr><th>employee_id</th><th>first_name</th><th>last_name</th><th>department_id</th><th>salary</th></tr>",
                            "<tr><td>1</td><td>John</td><td>Doe</td><td>1</td><td>5000</td></tr>",
                            "<tr><td>2</td><td>Jane</td><td>Smith</td><td>2</td><td>10000</td></tr>",
                            "<tr><td>3</td><td>Mike</td><td>Johnson</td><td>1</td><td>6000</td></tr>",
                            "<tr><td>4</td><td>Emily</td><td>Williams</td><td>3</td><td>5000</td></tr>",
                            "<tr><td>5</td><td>David</td><td>Brown</td><td>4</td><td>8000</td></tr>",
                            "<tr><td>6</td><td>Sarah</td><td>Miller</td><td>5</td><td>7000</td></tr>",
                            "</table>"
                        ]
                    }
                }
            ],
            "execution_count": 18
        },
        {
            "cell_type": "code",
            "source": [
                "select * \r\n",
                "from Employees \r\n",
                "where department_id = (select department_id \r\n",
                "                        from Departments \r\n",
                "                        where department_name='Sales')"
            ],
            "metadata": {
                "language": "sql",
                "azdata_cell_guid": "95dd2966-1fff-4b57-91d9-b49703630ec2"
            },
            "outputs": [
                {
                    "output_type": "display_data",
                    "data": {
                        "text/html": "(2 rows affected)"
                    },
                    "metadata": {}
                },
                {
                    "output_type": "display_data",
                    "data": {
                        "text/html": "Total execution time: 00:00:00.044"
                    },
                    "metadata": {}
                },
                {
                    "output_type": "execute_result",
                    "metadata": {},
                    "execution_count": 8,
                    "data": {
                        "application/vnd.dataresource+json": {
                            "schema": {
                                "fields": [
                                    {
                                        "name": "employee_id"
                                    },
                                    {
                                        "name": "first_name"
                                    },
                                    {
                                        "name": "last_name"
                                    },
                                    {
                                        "name": "department_id"
                                    }
                                ]
                            },
                            "data": [
                                {
                                    "employee_id": "1",
                                    "first_name": "John",
                                    "last_name": "Doe",
                                    "department_id": "1"
                                },
                                {
                                    "employee_id": "3",
                                    "first_name": "Mike",
                                    "last_name": "Johnson",
                                    "department_id": "1"
                                }
                            ]
                        },
                        "text/html": [
                            "<table>",
                            "<tr><th>employee_id</th><th>first_name</th><th>last_name</th><th>department_id</th></tr>",
                            "<tr><td>1</td><td>John</td><td>Doe</td><td>1</td></tr>",
                            "<tr><td>3</td><td>Mike</td><td>Johnson</td><td>1</td></tr>",
                            "</table>"
                        ]
                    }
                }
            ],
            "execution_count": 8
        },
        {
            "cell_type": "code",
            "source": [
                "select department_name, count(employee_id) as \"Count of Employees\"\r\n",
                "from Departments D\r\n",
                "left join Employees E\r\n",
                "on D.department_id = E.department_id\r\n",
                "group by department_name"
            ],
            "metadata": {
                "language": "sql",
                "azdata_cell_guid": "a59504b0-7c5f-44a1-9e9e-9b63b643e039"
            },
            "outputs": [
                {
                    "output_type": "display_data",
                    "data": {
                        "text/html": "(5 rows affected)"
                    },
                    "metadata": {}
                },
                {
                    "output_type": "display_data",
                    "data": {
                        "text/html": "Total execution time: 00:00:00.033"
                    },
                    "metadata": {}
                },
                {
                    "output_type": "execute_result",
                    "metadata": {},
                    "execution_count": 19,
                    "data": {
                        "application/vnd.dataresource+json": {
                            "schema": {
                                "fields": [
                                    {
                                        "name": "department_name"
                                    },
                                    {
                                        "name": "Count of Employees"
                                    }
                                ]
                            },
                            "data": [
                                {
                                    "department_name": "Finance",
                                    "Count of Employees": "1"
                                },
                                {
                                    "department_name": "Human Resources",
                                    "Count of Employees": "1"
                                },
                                {
                                    "department_name": "IT",
                                    "Count of Employees": "1"
                                },
                                {
                                    "department_name": "Marketing",
                                    "Count of Employees": "1"
                                },
                                {
                                    "department_name": "Sales",
                                    "Count of Employees": "2"
                                }
                            ]
                        },
                        "text/html": [
                            "<table>",
                            "<tr><th>department_name</th><th>Count of Employees</th></tr>",
                            "<tr><td>Finance</td><td>1</td></tr>",
                            "<tr><td>Human Resources</td><td>1</td></tr>",
                            "<tr><td>IT</td><td>1</td></tr>",
                            "<tr><td>Marketing</td><td>1</td></tr>",
                            "<tr><td>Sales</td><td>2</td></tr>",
                            "</table>"
                        ]
                    }
                }
            ],
            "execution_count": 19
        },
        {
            "cell_type": "markdown",
            "source": [
                "<span style=\"border: 0px solid rgb(217, 217, 227); box-sizing: border-box; --tw-border-spacing-x: 0; --tw-border-spacing-y: 0; --tw-translate-x: 0; --tw-translate-y: 0; --tw-rotate: 0; --tw-skew-x: 0; --tw-skew-y: 0; --tw-scale-x: 1; --tw-scale-y: 1; --tw-pan-x: ; --tw-pan-y: ; --tw-pinch-zoom: ; --tw-scroll-snap-strictness: proximity; --tw-gradient-from-position: ; --tw-gradient-via-position: ; --tw-gradient-to-position: ; --tw-ordinal: ; --tw-slashed-zero: ; --tw-numeric-figure: ; --tw-numeric-spacing: ; --tw-numeric-fraction: ; --tw-ring-inset: ; --tw-ring-offset-width: 0px; --tw-ring-offset-color: #fff; --tw-ring-color: rgba(69,89,164,0.5); --tw-ring-offset-shadow: 0 0 transparent; --tw-ring-shadow: 0 0 transparent; --tw-shadow: 0 0 transparent; --tw-shadow-colored: 0 0 transparent; --tw-blur: ; --tw-brightness: ; --tw-contrast: ; --tw-grayscale: ; --tw-hue-rotate: ; --tw-invert: ; --tw-saturate: ; --tw-sepia: ; --tw-drop-shadow: ; --tw-backdrop-blur: ; --tw-backdrop-brightness: ; --tw-backdrop-contrast: ; --tw-backdrop-grayscale: ; --tw-backdrop-hue-rotate: ; --tw-backdrop-invert: ; --tw-backdrop-opacity: ; --tw-backdrop-saturate: ; --tw-backdrop-sepia: ; font-weight: 600; color: var(--tw-prose-bold); font-family: Söhne, ui-sans-serif, system-ui, -apple-system, &quot;Segoe UI&quot;, Roboto, Ubuntu, Cantarell, &quot;Noto Sans&quot;, sans-serif, &quot;Helvetica Neue&quot;, Arial, &quot;Apple Color Emoji&quot;, &quot;Segoe UI Emoji&quot;, &quot;Segoe UI Symbol&quot;, &quot;Noto Color Emoji&quot;; font-size: 16px; white-space: pre-wrap; background-color: rgb(68, 70, 84);\">Question:</span> <span style=\"color: rgb(209, 213, 219); font-family: Söhne, ui-sans-serif, system-ui, -apple-system, &quot;Segoe UI&quot;, Roboto, Ubuntu, Cantarell, &quot;Noto Sans&quot;, sans-serif, &quot;Helvetica Neue&quot;, Arial, &quot;Apple Color Emoji&quot;, &quot;Segoe UI Emoji&quot;, &quot;Segoe UI Symbol&quot;, &quot;Noto Color Emoji&quot;; font-size: 16px; white-space: pre-wrap; background-color: rgb(68, 70, 84);\"> Write a query to find the employee with the highest salary from the \"Employees\" table.</span>"
            ],
            "metadata": {
                "language": "sql",
                "azdata_cell_guid": "9f329561-dfea-44b2-b58b-4768ccfde2c2"
            },
            "attachments": {}
        },
        {
            "cell_type": "code",
            "source": [
                "select first_name, salary from Employees \r\n",
                "where salary = (select max(salary) from Employees)"
            ],
            "metadata": {
                "language": "sql",
                "azdata_cell_guid": "0fbcfe13-9d8d-439c-9998-d3b0e202897b"
            },
            "outputs": [
                {
                    "output_type": "display_data",
                    "data": {
                        "text/html": "(1 row affected)"
                    },
                    "metadata": {}
                },
                {
                    "output_type": "display_data",
                    "data": {
                        "text/html": "Total execution time: 00:00:00.012"
                    },
                    "metadata": {}
                },
                {
                    "output_type": "execute_result",
                    "metadata": {},
                    "execution_count": 21,
                    "data": {
                        "application/vnd.dataresource+json": {
                            "schema": {
                                "fields": [
                                    {
                                        "name": "first_name"
                                    },
                                    {
                                        "name": "salary"
                                    }
                                ]
                            },
                            "data": [
                                {
                                    "first_name": "Jane",
                                    "salary": "10000"
                                }
                            ]
                        },
                        "text/html": [
                            "<table>",
                            "<tr><th>first_name</th><th>salary</th></tr>",
                            "<tr><td>Jane</td><td>10000</td></tr>",
                            "</table>"
                        ]
                    }
                }
            ],
            "execution_count": 21
        },
        {
            "cell_type": "markdown",
            "source": [
                "<span style=\"border: 0px solid rgb(217, 217, 227); box-sizing: border-box; --tw-border-spacing-x: 0; --tw-border-spacing-y: 0; --tw-translate-x: 0; --tw-translate-y: 0; --tw-rotate: 0; --tw-skew-x: 0; --tw-skew-y: 0; --tw-scale-x: 1; --tw-scale-y: 1; --tw-pan-x: ; --tw-pan-y: ; --tw-pinch-zoom: ; --tw-scroll-snap-strictness: proximity; --tw-gradient-from-position: ; --tw-gradient-via-position: ; --tw-gradient-to-position: ; --tw-ordinal: ; --tw-slashed-zero: ; --tw-numeric-figure: ; --tw-numeric-spacing: ; --tw-numeric-fraction: ; --tw-ring-inset: ; --tw-ring-offset-width: 0px; --tw-ring-offset-color: #fff; --tw-ring-color: rgba(69,89,164,0.5); --tw-ring-offset-shadow: 0 0 transparent; --tw-ring-shadow: 0 0 transparent; --tw-shadow: 0 0 transparent; --tw-shadow-colored: 0 0 transparent; --tw-blur: ; --tw-brightness: ; --tw-contrast: ; --tw-grayscale: ; --tw-hue-rotate: ; --tw-invert: ; --tw-saturate: ; --tw-sepia: ; --tw-drop-shadow: ; --tw-backdrop-blur: ; --tw-backdrop-brightness: ; --tw-backdrop-contrast: ; --tw-backdrop-grayscale: ; --tw-backdrop-hue-rotate: ; --tw-backdrop-invert: ; --tw-backdrop-opacity: ; --tw-backdrop-saturate: ; --tw-backdrop-sepia: ; font-weight: 600; color: var(--tw-prose-bold); font-family: Söhne, ui-sans-serif, system-ui, -apple-system, &quot;Segoe UI&quot;, Roboto, Ubuntu, Cantarell, &quot;Noto Sans&quot;, sans-serif, &quot;Helvetica Neue&quot;, Arial, &quot;Apple Color Emoji&quot;, &quot;Segoe UI Emoji&quot;, &quot;Segoe UI Symbol&quot;, &quot;Noto Color Emoji&quot;; font-size: 16px; white-space: pre-wrap; background-color: rgb(68, 70, 84);\">Question:</span> <span style=\"color: rgb(209, 213, 219); font-family: Söhne, ui-sans-serif, system-ui, -apple-system, &quot;Segoe UI&quot;, Roboto, Ubuntu, Cantarell, &quot;Noto Sans&quot;, sans-serif, &quot;Helvetica Neue&quot;, Arial, &quot;Apple Color Emoji&quot;, &quot;Segoe UI Emoji&quot;, &quot;Segoe UI Symbol&quot;, &quot;Noto Color Emoji&quot;; font-size: 16px; white-space: pre-wrap; background-color: rgb(68, 70, 84);\"> Write a query to retrieve the names of employees whose first name starts with 'J' from the \"Employees\" table.</span>"
            ],
            "metadata": {
                "language": "sql",
                "azdata_cell_guid": "1ca5a338-ba81-4efb-a318-1de8234f1659"
            },
            "attachments": {}
        },
        {
            "cell_type": "code",
            "source": [
                "select first_name from Employees \r\n",
                "where first_name like ('J%')"
            ],
            "metadata": {
                "language": "sql",
                "azdata_cell_guid": "c7e9af4b-c416-4c81-a8e4-648d420120ab"
            },
            "outputs": [
                {
                    "output_type": "display_data",
                    "data": {
                        "text/html": "(2 rows affected)"
                    },
                    "metadata": {}
                },
                {
                    "output_type": "display_data",
                    "data": {
                        "text/html": "Total execution time: 00:00:00.019"
                    },
                    "metadata": {}
                },
                {
                    "output_type": "execute_result",
                    "metadata": {},
                    "execution_count": 22,
                    "data": {
                        "application/vnd.dataresource+json": {
                            "schema": {
                                "fields": [
                                    {
                                        "name": "first_name"
                                    }
                                ]
                            },
                            "data": [
                                {
                                    "first_name": "John"
                                },
                                {
                                    "first_name": "Jane"
                                }
                            ]
                        },
                        "text/html": [
                            "<table>",
                            "<tr><th>first_name</th></tr>",
                            "<tr><td>John</td></tr>",
                            "<tr><td>Jane</td></tr>",
                            "</table>"
                        ]
                    }
                }
            ],
            "execution_count": 22
        },
        {
            "cell_type": "markdown",
            "source": [
                "<span style=\"border: 0px solid rgb(217, 217, 227); box-sizing: border-box; --tw-border-spacing-x: 0; --tw-border-spacing-y: 0; --tw-translate-x: 0; --tw-translate-y: 0; --tw-rotate: 0; --tw-skew-x: 0; --tw-skew-y: 0; --tw-scale-x: 1; --tw-scale-y: 1; --tw-pan-x: ; --tw-pan-y: ; --tw-pinch-zoom: ; --tw-scroll-snap-strictness: proximity; --tw-gradient-from-position: ; --tw-gradient-via-position: ; --tw-gradient-to-position: ; --tw-ordinal: ; --tw-slashed-zero: ; --tw-numeric-figure: ; --tw-numeric-spacing: ; --tw-numeric-fraction: ; --tw-ring-inset: ; --tw-ring-offset-width: 0px; --tw-ring-offset-color: #fff; --tw-ring-color: rgba(69,89,164,0.5); --tw-ring-offset-shadow: 0 0 transparent; --tw-ring-shadow: 0 0 transparent; --tw-shadow: 0 0 transparent; --tw-shadow-colored: 0 0 transparent; --tw-blur: ; --tw-brightness: ; --tw-contrast: ; --tw-grayscale: ; --tw-hue-rotate: ; --tw-invert: ; --tw-saturate: ; --tw-sepia: ; --tw-drop-shadow: ; --tw-backdrop-blur: ; --tw-backdrop-brightness: ; --tw-backdrop-contrast: ; --tw-backdrop-grayscale: ; --tw-backdrop-hue-rotate: ; --tw-backdrop-invert: ; --tw-backdrop-opacity: ; --tw-backdrop-saturate: ; --tw-backdrop-sepia: ; font-weight: 600; color: var(--tw-prose-bold); font-family: Söhne, ui-sans-serif, system-ui, -apple-system, &quot;Segoe UI&quot;, Roboto, Ubuntu, Cantarell, &quot;Noto Sans&quot;, sans-serif, &quot;Helvetica Neue&quot;, Arial, &quot;Apple Color Emoji&quot;, &quot;Segoe UI Emoji&quot;, &quot;Segoe UI Symbol&quot;, &quot;Noto Color Emoji&quot;; font-size: 16px; white-space: pre-wrap; background-color: rgb(68, 70, 84);\">Question:</span> <span style=\"color: rgb(209, 213, 219); font-family: Söhne, ui-sans-serif, system-ui, -apple-system, &quot;Segoe UI&quot;, Roboto, Ubuntu, Cantarell, &quot;Noto Sans&quot;, sans-serif, &quot;Helvetica Neue&quot;, Arial, &quot;Apple Color Emoji&quot;, &quot;Segoe UI Emoji&quot;, &quot;Segoe UI Symbol&quot;, &quot;Noto Color Emoji&quot;; font-size: 16px; white-space: pre-wrap; background-color: rgb(68, 70, 84);\"> Write a query to retrieve the employee names and their corresponding department names from the \"Employees\" and \"Departments\" tables. </span> <span style=\"border: 0px solid rgb(217, 217, 227); box-sizing: border-box; --tw-border-spacing-x: 0; --tw-border-spacing-y: 0; --tw-translate-x: 0; --tw-translate-y: 0; --tw-rotate: 0; --tw-skew-x: 0; --tw-skew-y: 0; --tw-scale-x: 1; --tw-scale-y: 1; --tw-pan-x: ; --tw-pan-y: ; --tw-pinch-zoom: ; --tw-scroll-snap-strictness: proximity; --tw-gradient-from-position: ; --tw-gradient-via-position: ; --tw-gradient-to-position: ; --tw-ordinal: ; --tw-slashed-zero: ; --tw-numeric-figure: ; --tw-numeric-spacing: ; --tw-numeric-fraction: ; --tw-ring-inset: ; --tw-ring-offset-width: 0px; --tw-ring-offset-color: #fff; --tw-ring-color: rgba(69,89,164,0.5); --tw-ring-offset-shadow: 0 0 transparent; --tw-ring-shadow: 0 0 transparent; --tw-shadow: 0 0 transparent; --tw-shadow-colored: 0 0 transparent; --tw-blur: ; --tw-brightness: ; --tw-contrast: ; --tw-grayscale: ; --tw-hue-rotate: ; --tw-invert: ; --tw-saturate: ; --tw-sepia: ; --tw-drop-shadow: ; --tw-backdrop-blur: ; --tw-backdrop-brightness: ; --tw-backdrop-contrast: ; --tw-backdrop-grayscale: ; --tw-backdrop-hue-rotate: ; --tw-backdrop-invert: ; --tw-backdrop-opacity: ; --tw-backdrop-saturate: ; --tw-backdrop-sepia: ; font-weight: 600; color: var(--tw-prose-bold); font-family: Söhne, ui-sans-serif, system-ui, -apple-system, &quot;Segoe UI&quot;, Roboto, Ubuntu, Cantarell, &quot;Noto Sans&quot;, sans-serif, &quot;Helvetica Neue&quot;, Arial, &quot;Apple Color Emoji&quot;, &quot;Segoe UI Emoji&quot;, &quot;Segoe UI Symbol&quot;, &quot;Noto Color Emoji&quot;; font-size: 16px; white-space: pre-wrap; background-color: rgb(68, 70, 84);\">Solution:</span>"
            ],
            "metadata": {
                "language": "sql",
                "azdata_cell_guid": "692e6136-560e-4e26-b720-5d7a521a2576"
            },
            "attachments": {}
        },
        {
            "cell_type": "code",
            "source": [
                "select first_name, department_name\r\n",
                "from Employees E\r\n",
                "left join Departments D\r\n",
                "on E.department_id = D.department_id"
            ],
            "metadata": {
                "language": "sql",
                "azdata_cell_guid": "46ac89c3-ccb9-4ed9-bbd9-5c66abf05597"
            },
            "outputs": [
                {
                    "output_type": "display_data",
                    "data": {
                        "text/html": "(6 rows affected)"
                    },
                    "metadata": {}
                },
                {
                    "output_type": "display_data",
                    "data": {
                        "text/html": "Total execution time: 00:00:00.016"
                    },
                    "metadata": {}
                },
                {
                    "output_type": "execute_result",
                    "metadata": {},
                    "execution_count": 24,
                    "data": {
                        "application/vnd.dataresource+json": {
                            "schema": {
                                "fields": [
                                    {
                                        "name": "first_name"
                                    },
                                    {
                                        "name": "department_name"
                                    }
                                ]
                            },
                            "data": [
                                {
                                    "first_name": "John",
                                    "department_name": "Sales"
                                },
                                {
                                    "first_name": "Jane",
                                    "department_name": "Marketing"
                                },
                                {
                                    "first_name": "Mike",
                                    "department_name": "Sales"
                                },
                                {
                                    "first_name": "Emily",
                                    "department_name": "Finance"
                                },
                                {
                                    "first_name": "David",
                                    "department_name": "Human Resources"
                                },
                                {
                                    "first_name": "Sarah",
                                    "department_name": "IT"
                                }
                            ]
                        },
                        "text/html": [
                            "<table>",
                            "<tr><th>first_name</th><th>department_name</th></tr>",
                            "<tr><td>John</td><td>Sales</td></tr>",
                            "<tr><td>Jane</td><td>Marketing</td></tr>",
                            "<tr><td>Mike</td><td>Sales</td></tr>",
                            "<tr><td>Emily</td><td>Finance</td></tr>",
                            "<tr><td>David</td><td>Human Resources</td></tr>",
                            "<tr><td>Sarah</td><td>IT</td></tr>",
                            "</table>"
                        ]
                    }
                }
            ],
            "execution_count": 24
        },
        {
            "cell_type": "markdown",
            "source": [
                "<span style=\"border: 0px solid rgb(217, 217, 227); box-sizing: border-box; --tw-border-spacing-x: 0; --tw-border-spacing-y: 0; --tw-translate-x: 0; --tw-translate-y: 0; --tw-rotate: 0; --tw-skew-x: 0; --tw-skew-y: 0; --tw-scale-x: 1; --tw-scale-y: 1; --tw-pan-x: ; --tw-pan-y: ; --tw-pinch-zoom: ; --tw-scroll-snap-strictness: proximity; --tw-gradient-from-position: ; --tw-gradient-via-position: ; --tw-gradient-to-position: ; --tw-ordinal: ; --tw-slashed-zero: ; --tw-numeric-figure: ; --tw-numeric-spacing: ; --tw-numeric-fraction: ; --tw-ring-inset: ; --tw-ring-offset-width: 0px; --tw-ring-offset-color: #fff; --tw-ring-color: rgba(69,89,164,0.5); --tw-ring-offset-shadow: 0 0 transparent; --tw-ring-shadow: 0 0 transparent; --tw-shadow: 0 0 transparent; --tw-shadow-colored: 0 0 transparent; --tw-blur: ; --tw-brightness: ; --tw-contrast: ; --tw-grayscale: ; --tw-hue-rotate: ; --tw-invert: ; --tw-saturate: ; --tw-sepia: ; --tw-drop-shadow: ; --tw-backdrop-blur: ; --tw-backdrop-brightness: ; --tw-backdrop-contrast: ; --tw-backdrop-grayscale: ; --tw-backdrop-hue-rotate: ; --tw-backdrop-invert: ; --tw-backdrop-opacity: ; --tw-backdrop-saturate: ; --tw-backdrop-sepia: ; font-weight: 600; color: var(--tw-prose-bold); font-family: Söhne, ui-sans-serif, system-ui, -apple-system, &quot;Segoe UI&quot;, Roboto, Ubuntu, Cantarell, &quot;Noto Sans&quot;, sans-serif, &quot;Helvetica Neue&quot;, Arial, &quot;Apple Color Emoji&quot;, &quot;Segoe UI Emoji&quot;, &quot;Segoe UI Symbol&quot;, &quot;Noto Color Emoji&quot;; font-size: 16px; white-space: pre-wrap; background-color: rgb(68, 70, 84);\">Question:</span> <span style=\"color: rgb(209, 213, 219); font-family: Söhne, ui-sans-serif, system-ui, -apple-system, &quot;Segoe UI&quot;, Roboto, Ubuntu, Cantarell, &quot;Noto Sans&quot;, sans-serif, &quot;Helvetica Neue&quot;, Arial, &quot;Apple Color Emoji&quot;, &quot;Segoe UI Emoji&quot;, &quot;Segoe UI Symbol&quot;, &quot;Noto Color Emoji&quot;; font-size: 16px; white-space: pre-wrap; background-color: rgb(68, 70, 84);\"> Write a query to retrieve the employee names and their corresponding department names for employees who have a salary greater than $50,000 from the \"Employees\" and \"Departments\" tables.</span>"
            ],
            "metadata": {
                "language": "sql",
                "azdata_cell_guid": "2f07bb02-ac00-4894-93a1-35e2106b8dd4"
            },
            "attachments": {}
        },
        {
            "cell_type": "code",
            "source": [
                "select first_name, last_name, salary\r\n",
                "from Employees E\r\n",
                "left join Departments D\r\n",
                "on E.department_id = D.department_id\r\n",
                "where salary > 7000;"
            ],
            "metadata": {
                "language": "sql",
                "azdata_cell_guid": "c679be5e-c6d0-4452-9fcc-cdd3617c59e7"
            },
            "outputs": [
                {
                    "output_type": "display_data",
                    "data": {
                        "text/html": "(2 rows affected)"
                    },
                    "metadata": {}
                },
                {
                    "output_type": "display_data",
                    "data": {
                        "text/html": "Total execution time: 00:00:00.222"
                    },
                    "metadata": {}
                },
                {
                    "output_type": "execute_result",
                    "metadata": {},
                    "execution_count": 25,
                    "data": {
                        "application/vnd.dataresource+json": {
                            "schema": {
                                "fields": [
                                    {
                                        "name": "first_name"
                                    },
                                    {
                                        "name": "last_name"
                                    },
                                    {
                                        "name": "salary"
                                    }
                                ]
                            },
                            "data": [
                                {
                                    "first_name": "Jane",
                                    "last_name": "Smith",
                                    "salary": "10000"
                                },
                                {
                                    "first_name": "David",
                                    "last_name": "Brown",
                                    "salary": "8000"
                                }
                            ]
                        },
                        "text/html": [
                            "<table>",
                            "<tr><th>first_name</th><th>last_name</th><th>salary</th></tr>",
                            "<tr><td>Jane</td><td>Smith</td><td>10000</td></tr>",
                            "<tr><td>David</td><td>Brown</td><td>8000</td></tr>",
                            "</table>"
                        ]
                    }
                }
            ],
            "execution_count": 25
        },
        {
            "cell_type": "markdown",
            "source": [
                "  \n",
                "\n",
                "<span style=\"color: rgb(209, 213, 219); font-family: Söhne, ui-sans-serif, system-ui, -apple-system, &quot;Segoe UI&quot;, Roboto, Ubuntu, Cantarell, &quot;Noto Sans&quot;, sans-serif, &quot;Helvetica Neue&quot;, Arial, &quot;Apple Color Emoji&quot;, &quot;Segoe UI Emoji&quot;, &quot;Segoe UI Symbol&quot;, &quot;Noto Color Emoji&quot;; font-size: 16px; white-space: pre-wrap; background-color: rgb(68, 70, 84);\">Write a SQL query to retrieve all customers who have placed orders in the month of April 2023.</span>"
            ],
            "metadata": {
                "azdata_cell_guid": "11bc3b71-7014-4306-a2d1-83c5dc3912a5"
            },
            "attachments": {}
        },
        {
            "cell_type": "code",
            "source": [
                "select * from Orders;"
            ],
            "metadata": {
                "azdata_cell_guid": "5a6c6d71-0304-4378-88cb-a4d8294e7f2a",
                "language": "sql"
            },
            "outputs": [
                {
                    "output_type": "display_data",
                    "data": {
                        "text/html": "(5 rows affected)"
                    },
                    "metadata": {}
                },
                {
                    "output_type": "display_data",
                    "data": {
                        "text/html": "Total execution time: 00:00:00.232"
                    },
                    "metadata": {}
                },
                {
                    "output_type": "execute_result",
                    "metadata": {},
                    "execution_count": 26,
                    "data": {
                        "application/vnd.dataresource+json": {
                            "schema": {
                                "fields": [
                                    {
                                        "name": "order_id"
                                    },
                                    {
                                        "name": "customer_id"
                                    },
                                    {
                                        "name": "order_date"
                                    },
                                    {
                                        "name": "ship_country"
                                    }
                                ]
                            },
                            "data": [
                                {
                                    "order_id": "1",
                                    "customer_id": "1",
                                    "order_date": "2019-01-01",
                                    "ship_country": "Germany"
                                },
                                {
                                    "order_id": "2",
                                    "customer_id": "2",
                                    "order_date": "2019-01-02",
                                    "ship_country": "Mexico"
                                },
                                {
                                    "order_id": "3",
                                    "customer_id": "3",
                                    "order_date": "2019-01-03",
                                    "ship_country": "Mexico"
                                },
                                {
                                    "order_id": "4",
                                    "customer_id": "4",
                                    "order_date": "2019-01-04",
                                    "ship_country": "UK"
                                },
                                {
                                    "order_id": "5",
                                    "customer_id": "5",
                                    "order_date": "2019-01-05",
                                    "ship_country": "Sweden"
                                }
                            ]
                        },
                        "text/html": [
                            "<table>",
                            "<tr><th>order_id</th><th>customer_id</th><th>order_date</th><th>ship_country</th></tr>",
                            "<tr><td>1</td><td>1</td><td>2019-01-01</td><td>Germany</td></tr>",
                            "<tr><td>2</td><td>2</td><td>2019-01-02</td><td>Mexico</td></tr>",
                            "<tr><td>3</td><td>3</td><td>2019-01-03</td><td>Mexico</td></tr>",
                            "<tr><td>4</td><td>4</td><td>2019-01-04</td><td>UK</td></tr>",
                            "<tr><td>5</td><td>5</td><td>2019-01-05</td><td>Sweden</td></tr>",
                            "</table>"
                        ]
                    }
                }
            ],
            "execution_count": 26
        },
        {
            "cell_type": "code",
            "source": [
                "select * from Customers;"
            ],
            "metadata": {
                "language": "sql",
                "azdata_cell_guid": "a74e976d-415b-4233-89e7-572516d5ef75"
            },
            "outputs": [
                {
                    "output_type": "display_data",
                    "data": {
                        "text/html": "(5 rows affected)"
                    },
                    "metadata": {}
                },
                {
                    "output_type": "display_data",
                    "data": {
                        "text/html": "Total execution time: 00:00:00.024"
                    },
                    "metadata": {}
                },
                {
                    "output_type": "execute_result",
                    "metadata": {},
                    "execution_count": 27,
                    "data": {
                        "application/vnd.dataresource+json": {
                            "schema": {
                                "fields": [
                                    {
                                        "name": "customer_id"
                                    },
                                    {
                                        "name": "company_name"
                                    },
                                    {
                                        "name": "contact_name"
                                    },
                                    {
                                        "name": "country"
                                    }
                                ]
                            },
                            "data": [
                                {
                                    "customer_id": "1",
                                    "company_name": "Alfreds Futterkiste",
                                    "contact_name": "Maria Anders",
                                    "country": "Germany"
                                },
                                {
                                    "customer_id": "2",
                                    "company_name": "Ana Trujillo Emparedados y helados",
                                    "contact_name": "Ana Trujillo",
                                    "country": "Mexico"
                                },
                                {
                                    "customer_id": "3",
                                    "company_name": "Antonio Moreno Taquería",
                                    "contact_name": "Antonio Moreno",
                                    "country": "Mexico"
                                },
                                {
                                    "customer_id": "4",
                                    "company_name": "Around the Horn",
                                    "contact_name": "Thomas Hardy",
                                    "country": "UK"
                                },
                                {
                                    "customer_id": "5",
                                    "company_name": "Berglunds snabbköp",
                                    "contact_name": "Christina Berglund",
                                    "country": "Sweden"
                                }
                            ]
                        },
                        "text/html": [
                            "<table>",
                            "<tr><th>customer_id</th><th>company_name</th><th>contact_name</th><th>country</th></tr>",
                            "<tr><td>1</td><td>Alfreds Futterkiste</td><td>Maria Anders</td><td>Germany</td></tr>",
                            "<tr><td>2</td><td>Ana Trujillo Emparedados y helados</td><td>Ana Trujillo</td><td>Mexico</td></tr>",
                            "<tr><td>3</td><td>Antonio Moreno Taquería</td><td>Antonio Moreno</td><td>Mexico</td></tr>",
                            "<tr><td>4</td><td>Around the Horn</td><td>Thomas Hardy</td><td>UK</td></tr>",
                            "<tr><td>5</td><td>Berglunds snabbköp</td><td>Christina Berglund</td><td>Sweden</td></tr>",
                            "</table>"
                        ]
                    }
                }
            ],
            "execution_count": 27
        },
        {
            "cell_type": "code",
            "source": [
                "set IDENTITY_INSERT Orders ON;"
            ],
            "metadata": {
                "azdata_cell_guid": "159d67cf-d25c-4dba-a37c-04252526e995",
                "language": "sql"
            },
            "outputs": [
                {
                    "output_type": "display_data",
                    "data": {
                        "text/html": "Commands completed successfully."
                    },
                    "metadata": {}
                },
                {
                    "output_type": "display_data",
                    "data": {
                        "text/html": "Total execution time: 00:00:00.054"
                    },
                    "metadata": {}
                }
            ],
            "execution_count": 31
        },
        {
            "cell_type": "code",
            "source": [
                "insert into Orders(order_id, customer_id, order_date, ship_country)\r\n",
                "values (6,2,'2019-04-15','India'),\r\n",
                "(7,1,'2019-04-1','China'),\r\n",
                "(8,3,'2019-04-19','India'),\r\n",
                "(9,5,'2019-04-23','Bangladesh')\r\n",
                ";"
            ],
            "metadata": {
                "language": "sql",
                "azdata_cell_guid": "dea23073-b9a7-4cc7-be3b-cb80c693061d"
            },
            "outputs": [
                {
                    "output_type": "display_data",
                    "data": {
                        "text/html": "(4 rows affected)"
                    },
                    "metadata": {}
                },
                {
                    "output_type": "display_data",
                    "data": {
                        "text/html": "Total execution time: 00:00:00.035"
                    },
                    "metadata": {}
                }
            ],
            "execution_count": 32
        },
        {
            "cell_type": "code",
            "source": [
                "select * from Orders\r\n",
                "where month(order_date) = 4"
            ],
            "metadata": {
                "language": "sql",
                "azdata_cell_guid": "fb06bc94-ad12-4c28-8d88-cedb3eae3bab"
            },
            "outputs": [
                {
                    "output_type": "display_data",
                    "data": {
                        "text/html": "(4 rows affected)"
                    },
                    "metadata": {}
                },
                {
                    "output_type": "display_data",
                    "data": {
                        "text/html": "Total execution time: 00:00:00.012"
                    },
                    "metadata": {}
                },
                {
                    "output_type": "execute_result",
                    "metadata": {},
                    "execution_count": 33,
                    "data": {
                        "application/vnd.dataresource+json": {
                            "schema": {
                                "fields": [
                                    {
                                        "name": "order_id"
                                    },
                                    {
                                        "name": "customer_id"
                                    },
                                    {
                                        "name": "order_date"
                                    },
                                    {
                                        "name": "ship_country"
                                    }
                                ]
                            },
                            "data": [
                                {
                                    "order_id": "6",
                                    "customer_id": "2",
                                    "order_date": "2019-04-15",
                                    "ship_country": "India"
                                },
                                {
                                    "order_id": "7",
                                    "customer_id": "1",
                                    "order_date": "2019-04-01",
                                    "ship_country": "China"
                                },
                                {
                                    "order_id": "8",
                                    "customer_id": "3",
                                    "order_date": "2019-04-19",
                                    "ship_country": "India"
                                },
                                {
                                    "order_id": "9",
                                    "customer_id": "5",
                                    "order_date": "2019-04-23",
                                    "ship_country": "Bangladesh"
                                }
                            ]
                        },
                        "text/html": [
                            "<table>",
                            "<tr><th>order_id</th><th>customer_id</th><th>order_date</th><th>ship_country</th></tr>",
                            "<tr><td>6</td><td>2</td><td>2019-04-15</td><td>India</td></tr>",
                            "<tr><td>7</td><td>1</td><td>2019-04-01</td><td>China</td></tr>",
                            "<tr><td>8</td><td>3</td><td>2019-04-19</td><td>India</td></tr>",
                            "<tr><td>9</td><td>5</td><td>2019-04-23</td><td>Bangladesh</td></tr>",
                            "</table>"
                        ]
                    }
                }
            ],
            "execution_count": 33
        },
        {
            "cell_type": "code",
            "source": [
                "select * from Products;"
            ],
            "metadata": {
                "language": "sql",
                "azdata_cell_guid": "4986521c-a3da-46cf-9b54-bc2a00d5ec9f"
            },
            "outputs": [
                {
                    "output_type": "display_data",
                    "data": {
                        "text/html": "(10 rows affected)"
                    },
                    "metadata": {}
                },
                {
                    "output_type": "display_data",
                    "data": {
                        "text/html": "Total execution time: 00:00:00.015"
                    },
                    "metadata": {}
                },
                {
                    "output_type": "execute_result",
                    "metadata": {},
                    "execution_count": 34,
                    "data": {
                        "application/vnd.dataresource+json": {
                            "schema": {
                                "fields": [
                                    {
                                        "name": "product_id"
                                    },
                                    {
                                        "name": "product_name"
                                    },
                                    {
                                        "name": "category_id"
                                    },
                                    {
                                        "name": "unit_price"
                                    }
                                ]
                            },
                            "data": [
                                {
                                    "product_id": "1",
                                    "product_name": "Chai",
                                    "category_id": "1",
                                    "unit_price": "18.00"
                                },
                                {
                                    "product_id": "2",
                                    "product_name": "Chang",
                                    "category_id": "1",
                                    "unit_price": "19.00"
                                },
                                {
                                    "product_id": "3",
                                    "product_name": "Aniseed Syrup",
                                    "category_id": "2",
                                    "unit_price": "10.00"
                                },
                                {
                                    "product_id": "4",
                                    "product_name": "Chef Anton's Cajun Seasoning",
                                    "category_id": "2",
                                    "unit_price": "22.00"
                                },
                                {
                                    "product_id": "5",
                                    "product_name": "Chef Anton's Gumbo Mix",
                                    "category_id": "2",
                                    "unit_price": "21.35"
                                },
                                {
                                    "product_id": "6",
                                    "product_name": "Grandma's Boysenberry Spread",
                                    "category_id": "2",
                                    "unit_price": "25.00"
                                },
                                {
                                    "product_id": "7",
                                    "product_name": "Uncle Bob's Organic Dried Pears",
                                    "category_id": "7",
                                    "unit_price": "30.00"
                                },
                                {
                                    "product_id": "8",
                                    "product_name": "Northwoods Cranberry Sauce",
                                    "category_id": "2",
                                    "unit_price": "40.00"
                                },
                                {
                                    "product_id": "9",
                                    "product_name": "Mishi Kobe Niku",
                                    "category_id": "6",
                                    "unit_price": "97.00"
                                },
                                {
                                    "product_id": "10",
                                    "product_name": "Ikura",
                                    "category_id": "8",
                                    "unit_price": "31.00"
                                }
                            ]
                        },
                        "text/html": [
                            "<table>",
                            "<tr><th>product_id</th><th>product_name</th><th>category_id</th><th>unit_price</th></tr>",
                            "<tr><td>1</td><td>Chai</td><td>1</td><td>18.00</td></tr>",
                            "<tr><td>2</td><td>Chang</td><td>1</td><td>19.00</td></tr>",
                            "<tr><td>3</td><td>Aniseed Syrup</td><td>2</td><td>10.00</td></tr>",
                            "<tr><td>4</td><td>Chef Anton's Cajun Seasoning</td><td>2</td><td>22.00</td></tr>",
                            "<tr><td>5</td><td>Chef Anton's Gumbo Mix</td><td>2</td><td>21.35</td></tr>",
                            "<tr><td>6</td><td>Grandma's Boysenberry Spread</td><td>2</td><td>25.00</td></tr>",
                            "<tr><td>7</td><td>Uncle Bob's Organic Dried Pears</td><td>7</td><td>30.00</td></tr>",
                            "<tr><td>8</td><td>Northwoods Cranberry Sauce</td><td>2</td><td>40.00</td></tr>",
                            "<tr><td>9</td><td>Mishi Kobe Niku</td><td>6</td><td>97.00</td></tr>",
                            "<tr><td>10</td><td>Ikura</td><td>8</td><td>31.00</td></tr>",
                            "</table>"
                        ]
                    }
                }
            ],
            "execution_count": 34
        },
        {
            "cell_type": "code",
            "source": [
                "select * from Order_Details;"
            ],
            "metadata": {
                "language": "sql",
                "azdata_cell_guid": "28baa9c7-cb0d-474a-822f-167b3325a421"
            },
            "outputs": [
                {
                    "output_type": "display_data",
                    "data": {
                        "text/html": "(20 rows affected)"
                    },
                    "metadata": {}
                },
                {
                    "output_type": "display_data",
                    "data": {
                        "text/html": "Total execution time: 00:00:00.016"
                    },
                    "metadata": {}
                },
                {
                    "output_type": "execute_result",
                    "metadata": {},
                    "execution_count": 68,
                    "data": {
                        "application/vnd.dataresource+json": {
                            "schema": {
                                "fields": [
                                    {
                                        "name": "order_detail_id"
                                    },
                                    {
                                        "name": "order_id"
                                    },
                                    {
                                        "name": "product_id"
                                    },
                                    {
                                        "name": "unit_price"
                                    },
                                    {
                                        "name": "quantity"
                                    }
                                ]
                            },
                            "data": [
                                {
                                    "order_detail_id": "1",
                                    "order_id": "1",
                                    "product_id": "1",
                                    "unit_price": "18.00",
                                    "quantity": "10"
                                },
                                {
                                    "order_detail_id": "2",
                                    "order_id": "2",
                                    "product_id": "2",
                                    "unit_price": "19.00",
                                    "quantity": "20"
                                },
                                {
                                    "order_detail_id": "3",
                                    "order_id": "3",
                                    "product_id": "3",
                                    "unit_price": "10.00",
                                    "quantity": "30"
                                },
                                {
                                    "order_detail_id": "4",
                                    "order_id": "4",
                                    "product_id": "4",
                                    "unit_price": "22.00",
                                    "quantity": "40"
                                },
                                {
                                    "order_detail_id": "5",
                                    "order_id": "5",
                                    "product_id": "5",
                                    "unit_price": "21.35",
                                    "quantity": "50"
                                },
                                {
                                    "order_detail_id": "6",
                                    "order_id": "1",
                                    "product_id": "6",
                                    "unit_price": "25.00",
                                    "quantity": "5"
                                },
                                {
                                    "order_detail_id": "7",
                                    "order_id": "2",
                                    "product_id": "7",
                                    "unit_price": "30.00",
                                    "quantity": "15"
                                },
                                {
                                    "order_detail_id": "8",
                                    "order_id": "3",
                                    "product_id": "8",
                                    "unit_price": "40.00",
                                    "quantity": "25"
                                },
                                {
                                    "order_detail_id": "9",
                                    "order_id": "4",
                                    "product_id": "9",
                                    "unit_price": "97.00",
                                    "quantity": "35"
                                },
                                {
                                    "order_detail_id": "10",
                                    "order_id": "5",
                                    "product_id": "10",
                                    "unit_price": "31.00",
                                    "quantity": "45"
                                },
                                {
                                    "order_detail_id": "11",
                                    "order_id": "6",
                                    "product_id": "1",
                                    "unit_price": "18.00",
                                    "quantity": "5"
                                },
                                {
                                    "order_detail_id": "12",
                                    "order_id": "6",
                                    "product_id": "5",
                                    "unit_price": "21.35",
                                    "quantity": "20"
                                },
                                {
                                    "order_detail_id": "13",
                                    "order_id": "7",
                                    "product_id": "4",
                                    "unit_price": "22.00",
                                    "quantity": "50"
                                },
                                {
                                    "order_detail_id": "14",
                                    "order_id": "7",
                                    "product_id": "6",
                                    "unit_price": "25.00",
                                    "quantity": "55"
                                },
                                {
                                    "order_detail_id": "15",
                                    "order_id": "8",
                                    "product_id": "5",
                                    "unit_price": "21.35",
                                    "quantity": "20"
                                },
                                {
                                    "order_detail_id": "16",
                                    "order_id": "8",
                                    "product_id": "4",
                                    "unit_price": "22.00",
                                    "quantity": "12"
                                },
                                {
                                    "order_detail_id": "17",
                                    "order_id": "9",
                                    "product_id": "8",
                                    "unit_price": "40.00",
                                    "quantity": "12"
                                },
                                {
                                    "order_detail_id": "18",
                                    "order_id": "9",
                                    "product_id": "2",
                                    "unit_price": "30.00",
                                    "quantity": "12"
                                },
                                {
                                    "order_detail_id": "19",
                                    "order_id": "7",
                                    "product_id": "10",
                                    "unit_price": "40.00",
                                    "quantity": "12"
                                },
                                {
                                    "order_detail_id": "20",
                                    "order_id": "8",
                                    "product_id": "2",
                                    "unit_price": "19.00",
                                    "quantity": "12"
                                }
                            ]
                        },
                        "text/html": [
                            "<table>",
                            "<tr><th>order_detail_id</th><th>order_id</th><th>product_id</th><th>unit_price</th><th>quantity</th></tr>",
                            "<tr><td>1</td><td>1</td><td>1</td><td>18.00</td><td>10</td></tr>",
                            "<tr><td>2</td><td>2</td><td>2</td><td>19.00</td><td>20</td></tr>",
                            "<tr><td>3</td><td>3</td><td>3</td><td>10.00</td><td>30</td></tr>",
                            "<tr><td>4</td><td>4</td><td>4</td><td>22.00</td><td>40</td></tr>",
                            "<tr><td>5</td><td>5</td><td>5</td><td>21.35</td><td>50</td></tr>",
                            "<tr><td>6</td><td>1</td><td>6</td><td>25.00</td><td>5</td></tr>",
                            "<tr><td>7</td><td>2</td><td>7</td><td>30.00</td><td>15</td></tr>",
                            "<tr><td>8</td><td>3</td><td>8</td><td>40.00</td><td>25</td></tr>",
                            "<tr><td>9</td><td>4</td><td>9</td><td>97.00</td><td>35</td></tr>",
                            "<tr><td>10</td><td>5</td><td>10</td><td>31.00</td><td>45</td></tr>",
                            "<tr><td>11</td><td>6</td><td>1</td><td>18.00</td><td>5</td></tr>",
                            "<tr><td>12</td><td>6</td><td>5</td><td>21.35</td><td>20</td></tr>",
                            "<tr><td>13</td><td>7</td><td>4</td><td>22.00</td><td>50</td></tr>",
                            "<tr><td>14</td><td>7</td><td>6</td><td>25.00</td><td>55</td></tr>",
                            "<tr><td>15</td><td>8</td><td>5</td><td>21.35</td><td>20</td></tr>",
                            "<tr><td>16</td><td>8</td><td>4</td><td>22.00</td><td>12</td></tr>",
                            "<tr><td>17</td><td>9</td><td>8</td><td>40.00</td><td>12</td></tr>",
                            "<tr><td>18</td><td>9</td><td>2</td><td>30.00</td><td>12</td></tr>",
                            "<tr><td>19</td><td>7</td><td>10</td><td>40.00</td><td>12</td></tr>",
                            "<tr><td>20</td><td>8</td><td>2</td><td>19.00</td><td>12</td></tr>",
                            "</table>"
                        ]
                    }
                }
            ],
            "execution_count": 68
        },
        {
            "cell_type": "code",
            "source": [
                "set IDENTITY_INSERT Orders OFF;\r\n",
                "set IDENTITY_INSERT Order_Details ON;\r\n",
                "insert into Order_Details (order_detail_id,order_id,product_id,unit_price,quantity)\r\n",
                "values (11, 6, 1, 18.00, 5),\r\n",
                "(12, 6, 5, 21.35, 20),\r\n",
                "(13, 7, 4, 22.00, 50);"
            ],
            "metadata": {
                "language": "sql",
                "azdata_cell_guid": "35d0a47a-7c6f-40cd-95ad-db7db768affd"
            },
            "outputs": [
                {
                    "output_type": "display_data",
                    "data": {
                        "text/html": "(3 rows affected)"
                    },
                    "metadata": {}
                },
                {
                    "output_type": "display_data",
                    "data": {
                        "text/html": "Total execution time: 00:00:00.034"
                    },
                    "metadata": {}
                }
            ],
            "execution_count": 40
        },
        {
            "cell_type": "code",
            "source": [
                "select * from Products;"
            ],
            "metadata": {
                "azdata_cell_guid": "9d2e6bea-102a-449d-95f7-7aade256e325",
                "language": "sql"
            },
            "outputs": [
                {
                    "output_type": "display_data",
                    "data": {
                        "text/html": "(10 rows affected)"
                    },
                    "metadata": {}
                },
                {
                    "output_type": "display_data",
                    "data": {
                        "text/html": "Total execution time: 00:00:00.167"
                    },
                    "metadata": {}
                },
                {
                    "output_type": "execute_result",
                    "metadata": {},
                    "execution_count": 41,
                    "data": {
                        "application/vnd.dataresource+json": {
                            "schema": {
                                "fields": [
                                    {
                                        "name": "product_id"
                                    },
                                    {
                                        "name": "product_name"
                                    },
                                    {
                                        "name": "category_id"
                                    },
                                    {
                                        "name": "unit_price"
                                    }
                                ]
                            },
                            "data": [
                                {
                                    "product_id": "1",
                                    "product_name": "Chai",
                                    "category_id": "1",
                                    "unit_price": "18.00"
                                },
                                {
                                    "product_id": "2",
                                    "product_name": "Chang",
                                    "category_id": "1",
                                    "unit_price": "19.00"
                                },
                                {
                                    "product_id": "3",
                                    "product_name": "Aniseed Syrup",
                                    "category_id": "2",
                                    "unit_price": "10.00"
                                },
                                {
                                    "product_id": "4",
                                    "product_name": "Chef Anton's Cajun Seasoning",
                                    "category_id": "2",
                                    "unit_price": "22.00"
                                },
                                {
                                    "product_id": "5",
                                    "product_name": "Chef Anton's Gumbo Mix",
                                    "category_id": "2",
                                    "unit_price": "21.35"
                                },
                                {
                                    "product_id": "6",
                                    "product_name": "Grandma's Boysenberry Spread",
                                    "category_id": "2",
                                    "unit_price": "25.00"
                                },
                                {
                                    "product_id": "7",
                                    "product_name": "Uncle Bob's Organic Dried Pears",
                                    "category_id": "7",
                                    "unit_price": "30.00"
                                },
                                {
                                    "product_id": "8",
                                    "product_name": "Northwoods Cranberry Sauce",
                                    "category_id": "2",
                                    "unit_price": "40.00"
                                },
                                {
                                    "product_id": "9",
                                    "product_name": "Mishi Kobe Niku",
                                    "category_id": "6",
                                    "unit_price": "97.00"
                                },
                                {
                                    "product_id": "10",
                                    "product_name": "Ikura",
                                    "category_id": "8",
                                    "unit_price": "31.00"
                                }
                            ]
                        },
                        "text/html": [
                            "<table>",
                            "<tr><th>product_id</th><th>product_name</th><th>category_id</th><th>unit_price</th></tr>",
                            "<tr><td>1</td><td>Chai</td><td>1</td><td>18.00</td></tr>",
                            "<tr><td>2</td><td>Chang</td><td>1</td><td>19.00</td></tr>",
                            "<tr><td>3</td><td>Aniseed Syrup</td><td>2</td><td>10.00</td></tr>",
                            "<tr><td>4</td><td>Chef Anton's Cajun Seasoning</td><td>2</td><td>22.00</td></tr>",
                            "<tr><td>5</td><td>Chef Anton's Gumbo Mix</td><td>2</td><td>21.35</td></tr>",
                            "<tr><td>6</td><td>Grandma's Boysenberry Spread</td><td>2</td><td>25.00</td></tr>",
                            "<tr><td>7</td><td>Uncle Bob's Organic Dried Pears</td><td>7</td><td>30.00</td></tr>",
                            "<tr><td>8</td><td>Northwoods Cranberry Sauce</td><td>2</td><td>40.00</td></tr>",
                            "<tr><td>9</td><td>Mishi Kobe Niku</td><td>6</td><td>97.00</td></tr>",
                            "<tr><td>10</td><td>Ikura</td><td>8</td><td>31.00</td></tr>",
                            "</table>"
                        ]
                    }
                }
            ],
            "execution_count": 41
        },
        {
            "cell_type": "code",
            "source": [
                "insert into Order_Details (order_detail_id,order_id,product_id,unit_price,quantity)\r\n",
                "values \r\n",
                "(14, 7, 6, 25.00, 55),\r\n",
                "(15, 8, 5, 21.35, 20),\r\n",
                "(16, 8, 4, 22.00, 12),\r\n",
                "(17, 9, 8, 40.00, 12),\r\n",
                "(18, 9, 2, 30.00, 12),\r\n",
                "(19, 7, 10, 40.00, 12),\r\n",
                "(20, 8, 2, 19.00, 12)\r\n",
                ";"
            ],
            "metadata": {
                "language": "sql",
                "azdata_cell_guid": "d7200795-eb57-4553-9b87-4a3f46483d28"
            },
            "outputs": [
                {
                    "output_type": "display_data",
                    "data": {
                        "text/html": "(7 rows affected)"
                    },
                    "metadata": {}
                },
                {
                    "output_type": "display_data",
                    "data": {
                        "text/html": "Total execution time: 00:00:00.049"
                    },
                    "metadata": {}
                }
            ],
            "execution_count": 42
        },
        {
            "cell_type": "markdown",
            "source": [
                "<span style=\"color: rgb(209, 213, 219); font-family: Söhne, ui-sans-serif, system-ui, -apple-system, &quot;Segoe UI&quot;, Roboto, Ubuntu, Cantarell, &quot;Noto Sans&quot;, sans-serif, &quot;Helvetica Neue&quot;, Arial, &quot;Apple Color Emoji&quot;, &quot;Segoe UI Emoji&quot;, &quot;Segoe UI Symbol&quot;, &quot;Noto Color Emoji&quot;; font-size: 16px; white-space: pre-wrap; background-color: rgb(68, 70, 84);\">Write a SQL query to retrieve the top 10 products by total revenue generated in the year 2022.</span>"
            ],
            "metadata": {
                "language": "sql",
                "azdata_cell_guid": "62caa2eb-72dd-414a-ac42-023c1d0fb8d0"
            },
            "attachments": {}
        },
        {
            "cell_type": "code",
            "source": [
                "select P.product_id, product_name, revenue\r\n",
                "from Products P\r\n",
                "INNER JOIN (\r\n",
                "    select top 5 product_id, sum(unit_price*quantity) as revenue from Order_Details\r\n",
                "    group by product_id\r\n",
                "    order by revenue DESC\r\n",
                ") OD\r\n",
                "on P.product_id = OD.product_id\r\n",
                ""
            ],
            "metadata": {
                "language": "sql",
                "azdata_cell_guid": "e83fcfa7-f5c2-402d-b8e5-7440c536165b"
            },
            "outputs": [
                {
                    "output_type": "display_data",
                    "data": {
                        "text/html": "(5 rows affected)"
                    },
                    "metadata": {}
                },
                {
                    "output_type": "display_data",
                    "data": {
                        "text/html": "Total execution time: 00:00:00.016"
                    },
                    "metadata": {}
                },
                {
                    "output_type": "execute_result",
                    "metadata": {},
                    "execution_count": 51,
                    "data": {
                        "application/vnd.dataresource+json": {
                            "schema": {
                                "fields": [
                                    {
                                        "name": "product_id"
                                    },
                                    {
                                        "name": "product_name"
                                    },
                                    {
                                        "name": "revenue"
                                    }
                                ]
                            },
                            "data": [
                                {
                                    "product_id": "9",
                                    "product_name": "Mishi Kobe Niku",
                                    "revenue": "3395.00"
                                },
                                {
                                    "product_id": "4",
                                    "product_name": "Chef Anton's Cajun Seasoning",
                                    "revenue": "2244.00"
                                },
                                {
                                    "product_id": "5",
                                    "product_name": "Chef Anton's Gumbo Mix",
                                    "revenue": "1921.50"
                                },
                                {
                                    "product_id": "10",
                                    "product_name": "Ikura",
                                    "revenue": "1875.00"
                                },
                                {
                                    "product_id": "6",
                                    "product_name": "Grandma's Boysenberry Spread",
                                    "revenue": "1500.00"
                                }
                            ]
                        },
                        "text/html": [
                            "<table>",
                            "<tr><th>product_id</th><th>product_name</th><th>revenue</th></tr>",
                            "<tr><td>9</td><td>Mishi Kobe Niku</td><td>3395.00</td></tr>",
                            "<tr><td>4</td><td>Chef Anton's Cajun Seasoning</td><td>2244.00</td></tr>",
                            "<tr><td>5</td><td>Chef Anton's Gumbo Mix</td><td>1921.50</td></tr>",
                            "<tr><td>10</td><td>Ikura</td><td>1875.00</td></tr>",
                            "<tr><td>6</td><td>Grandma's Boysenberry Spread</td><td>1500.00</td></tr>",
                            "</table>"
                        ]
                    }
                }
            ],
            "execution_count": 51
        },
        {
            "cell_type": "code",
            "source": [
                "select top 5 product_name, sum(P.unit_price*quantity) as revenue\r\n",
                "from Products P\r\n",
                "INNER JOIN Order_Details OD\r\n",
                "on P.product_id = OD.product_id\r\n",
                "group by P.product_id, P.product_name\r\n",
                "ORDER by revenue desc"
            ],
            "metadata": {
                "language": "sql",
                "azdata_cell_guid": "511bec0f-7bd9-420c-9dbf-f9d8e48da7d3"
            },
            "outputs": [
                {
                    "output_type": "display_data",
                    "data": {
                        "text/html": "(5 rows affected)"
                    },
                    "metadata": {}
                },
                {
                    "output_type": "display_data",
                    "data": {
                        "text/html": "Total execution time: 00:00:00.015"
                    },
                    "metadata": {}
                },
                {
                    "output_type": "execute_result",
                    "metadata": {},
                    "execution_count": 56,
                    "data": {
                        "application/vnd.dataresource+json": {
                            "schema": {
                                "fields": [
                                    {
                                        "name": "product_name"
                                    },
                                    {
                                        "name": "revenue"
                                    }
                                ]
                            },
                            "data": [
                                {
                                    "product_name": "Mishi Kobe Niku",
                                    "revenue": "3395.00"
                                },
                                {
                                    "product_name": "Chef Anton's Cajun Seasoning",
                                    "revenue": "2244.00"
                                },
                                {
                                    "product_name": "Chef Anton's Gumbo Mix",
                                    "revenue": "1921.50"
                                },
                                {
                                    "product_name": "Ikura",
                                    "revenue": "1767.00"
                                },
                                {
                                    "product_name": "Grandma's Boysenberry Spread",
                                    "revenue": "1500.00"
                                }
                            ]
                        },
                        "text/html": [
                            "<table>",
                            "<tr><th>product_name</th><th>revenue</th></tr>",
                            "<tr><td>Mishi Kobe Niku</td><td>3395.00</td></tr>",
                            "<tr><td>Chef Anton's Cajun Seasoning</td><td>2244.00</td></tr>",
                            "<tr><td>Chef Anton's Gumbo Mix</td><td>1921.50</td></tr>",
                            "<tr><td>Ikura</td><td>1767.00</td></tr>",
                            "<tr><td>Grandma's Boysenberry Spread</td><td>1500.00</td></tr>",
                            "</table>"
                        ]
                    }
                }
            ],
            "execution_count": 56
        },
        {
            "cell_type": "markdown",
            "source": [
                "<span style=\"color: rgb(209, 213, 219); font-family: Söhne, ui-sans-serif, system-ui, -apple-system, &quot;Segoe UI&quot;, Roboto, Ubuntu, Cantarell, &quot;Noto Sans&quot;, sans-serif, &quot;Helvetica Neue&quot;, Arial, &quot;Apple Color Emoji&quot;, &quot;Segoe UI Emoji&quot;, &quot;Segoe UI Symbol&quot;, &quot;Noto Color Emoji&quot;; font-size: 16px; white-space: pre-wrap; background-color: rgb(68, 70, 84);\">Write a SQL query to retrieve the number of customers by country, sorted by the number of customers in descending order.</span>"
            ],
            "metadata": {
                "language": "sql",
                "azdata_cell_guid": "4954675c-89bc-4a00-a5b2-161847f35203"
            },
            "attachments": {}
        },
        {
            "cell_type": "code",
            "source": [
                "SELECT country, count(customer_id) as \"Count of Customers\" from Customers\r\n",
                "group by country\r\n",
                "order by \"Count of Customers\" DESC"
            ],
            "metadata": {
                "language": "sql",
                "azdata_cell_guid": "c4aba385-5c5b-4987-acce-494443539867"
            },
            "outputs": [
                {
                    "output_type": "display_data",
                    "data": {
                        "text/html": "(4 rows affected)"
                    },
                    "metadata": {}
                },
                {
                    "output_type": "display_data",
                    "data": {
                        "text/html": "Total execution time: 00:00:00.013"
                    },
                    "metadata": {}
                },
                {
                    "output_type": "execute_result",
                    "metadata": {},
                    "execution_count": 60,
                    "data": {
                        "application/vnd.dataresource+json": {
                            "schema": {
                                "fields": [
                                    {
                                        "name": "country"
                                    },
                                    {
                                        "name": "Count of Customers"
                                    }
                                ]
                            },
                            "data": [
                                {
                                    "country": "Mexico",
                                    "Count of Customers": "2"
                                },
                                {
                                    "country": "Sweden",
                                    "Count of Customers": "1"
                                },
                                {
                                    "country": "UK",
                                    "Count of Customers": "1"
                                },
                                {
                                    "country": "Germany",
                                    "Count of Customers": "1"
                                }
                            ]
                        },
                        "text/html": [
                            "<table>",
                            "<tr><th>country</th><th>Count of Customers</th></tr>",
                            "<tr><td>Mexico</td><td>2</td></tr>",
                            "<tr><td>Sweden</td><td>1</td></tr>",
                            "<tr><td>UK</td><td>1</td></tr>",
                            "<tr><td>Germany</td><td>1</td></tr>",
                            "</table>"
                        ]
                    }
                }
            ],
            "execution_count": 60
        },
        {
            "cell_type": "code",
            "source": [
                "SELECT * from Customers;"
            ],
            "metadata": {
                "azdata_cell_guid": "86504ed7-41cd-471e-a96d-76857931cc37",
                "language": "sql"
            },
            "outputs": [
                {
                    "output_type": "display_data",
                    "data": {
                        "text/html": "(5 rows affected)"
                    },
                    "metadata": {}
                },
                {
                    "output_type": "display_data",
                    "data": {
                        "text/html": "Total execution time: 00:00:00.011"
                    },
                    "metadata": {}
                },
                {
                    "output_type": "execute_result",
                    "metadata": {},
                    "execution_count": 64,
                    "data": {
                        "application/vnd.dataresource+json": {
                            "schema": {
                                "fields": [
                                    {
                                        "name": "customer_id"
                                    },
                                    {
                                        "name": "company_name"
                                    },
                                    {
                                        "name": "contact_name"
                                    },
                                    {
                                        "name": "country"
                                    }
                                ]
                            },
                            "data": [
                                {
                                    "customer_id": "1",
                                    "company_name": "Alfreds Futterkiste",
                                    "contact_name": "Maria Anders",
                                    "country": "Germany"
                                },
                                {
                                    "customer_id": "2",
                                    "company_name": "Ana Trujillo Emparedados y helados",
                                    "contact_name": "Ana Trujillo",
                                    "country": "Mexico"
                                },
                                {
                                    "customer_id": "3",
                                    "company_name": "Antonio Moreno Taquería",
                                    "contact_name": "Antonio Moreno",
                                    "country": "Mexico"
                                },
                                {
                                    "customer_id": "4",
                                    "company_name": "Around the Horn",
                                    "contact_name": "Thomas Hardy",
                                    "country": "UK"
                                },
                                {
                                    "customer_id": "5",
                                    "company_name": "Berglunds snabbköp",
                                    "contact_name": "Christina Berglund",
                                    "country": "Sweden"
                                }
                            ]
                        },
                        "text/html": [
                            "<table>",
                            "<tr><th>customer_id</th><th>company_name</th><th>contact_name</th><th>country</th></tr>",
                            "<tr><td>1</td><td>Alfreds Futterkiste</td><td>Maria Anders</td><td>Germany</td></tr>",
                            "<tr><td>2</td><td>Ana Trujillo Emparedados y helados</td><td>Ana Trujillo</td><td>Mexico</td></tr>",
                            "<tr><td>3</td><td>Antonio Moreno Taquería</td><td>Antonio Moreno</td><td>Mexico</td></tr>",
                            "<tr><td>4</td><td>Around the Horn</td><td>Thomas Hardy</td><td>UK</td></tr>",
                            "<tr><td>5</td><td>Berglunds snabbköp</td><td>Christina Berglund</td><td>Sweden</td></tr>",
                            "</table>"
                        ]
                    }
                }
            ],
            "execution_count": 64
        },
        {
            "cell_type": "markdown",
            "source": [
                "<span style=\"color: rgb(209, 213, 219); font-family: Söhne, ui-sans-serif, system-ui, -apple-system, &quot;Segoe UI&quot;, Roboto, Ubuntu, Cantarell, &quot;Noto Sans&quot;, sans-serif, &quot;Helvetica Neue&quot;, Arial, &quot;Apple Color Emoji&quot;, &quot;Segoe UI Emoji&quot;, &quot;Segoe UI Symbol&quot;, &quot;Noto Color Emoji&quot;; font-size: 16px; white-space: pre-wrap; background-color: rgb(68, 70, 84);\">Write a SQL query to retrieve the average order value for each customer.</span>"
            ],
            "metadata": {
                "language": "sql",
                "azdata_cell_guid": "d12ee56e-c70c-4ab8-964d-8db3c5dd38f6"
            },
            "attachments": {}
        },
        {
            "cell_type": "code",
            "source": [
                "select contact_name, AVG(quantity*unit_price) as avg_order_val\r\n",
                "from Customers C\r\n",
                "INNER JOIN Orders O\r\n",
                "on O.customer_id = C.customer_id\r\n",
                "INNER join Order_Details OD\r\n",
                "on O.order_id = OD.order_id\r\n",
                "group by contact_name\r\n",
                ";"
            ],
            "metadata": {
                "language": "sql",
                "azdata_cell_guid": "c6bcf43b-ce93-469c-b68c-faba53fbbd07"
            },
            "outputs": [
                {
                    "output_type": "display_data",
                    "data": {
                        "text/html": "(5 rows affected)"
                    },
                    "metadata": {}
                },
                {
                    "output_type": "display_data",
                    "data": {
                        "text/html": "Total execution time: 00:00:00.046"
                    },
                    "metadata": {}
                },
                {
                    "output_type": "execute_result",
                    "metadata": {},
                    "execution_count": 65,
                    "data": {
                        "application/vnd.dataresource+json": {
                            "schema": {
                                "fields": [
                                    {
                                        "name": "contact_name"
                                    },
                                    {
                                        "name": "avg_order_val"
                                    }
                                ]
                            },
                            "data": [
                                {
                                    "contact_name": "Ana Trujillo",
                                    "avg_order_val": "336.750000"
                                },
                                {
                                    "contact_name": "Antonio Moreno",
                                    "avg_order_val": "443.800000"
                                },
                                {
                                    "contact_name": "Christina Berglund",
                                    "avg_order_val": "825.625000"
                                },
                                {
                                    "contact_name": "Maria Anders",
                                    "avg_order_val": "652.000000"
                                },
                                {
                                    "contact_name": "Thomas Hardy",
                                    "avg_order_val": "2137.500000"
                                }
                            ]
                        },
                        "text/html": [
                            "<table>",
                            "<tr><th>contact_name</th><th>avg_order_val</th></tr>",
                            "<tr><td>Ana Trujillo</td><td>336.750000</td></tr>",
                            "<tr><td>Antonio Moreno</td><td>443.800000</td></tr>",
                            "<tr><td>Christina Berglund</td><td>825.625000</td></tr>",
                            "<tr><td>Maria Anders</td><td>652.000000</td></tr>",
                            "<tr><td>Thomas Hardy</td><td>2137.500000</td></tr>",
                            "</table>"
                        ]
                    }
                }
            ],
            "execution_count": 65
        },
        {
            "cell_type": "code",
            "source": [
                "SELECT customer_id, AVG(total_price) AS avg_order_value\r\n",
                "FROM (\r\n",
                "  SELECT o.customer_id, o.order_id, SUM(od.unit_price * od.quantity) AS total_price\r\n",
                "  FROM Orders o\r\n",
                "  JOIN Order_Details od ON o.order_id = od.order_id\r\n",
                "  GROUP BY o.customer_id, o.order_id\r\n",
                ") subquery\r\n",
                "GROUP BY customer_id;\r\n",
                ""
            ],
            "metadata": {
                "language": "sql",
                "azdata_cell_guid": "d99db2ef-a7cd-4d6c-beef-172f3ebdff0d"
            },
            "outputs": [
                {
                    "output_type": "display_data",
                    "data": {
                        "text/html": "(5 rows affected)"
                    },
                    "metadata": {}
                },
                {
                    "output_type": "display_data",
                    "data": {
                        "text/html": "Total execution time: 00:00:00.056"
                    },
                    "metadata": {}
                },
                {
                    "output_type": "execute_result",
                    "metadata": {},
                    "execution_count": 66,
                    "data": {
                        "application/vnd.dataresource+json": {
                            "schema": {
                                "fields": [
                                    {
                                        "name": "customer_id"
                                    },
                                    {
                                        "name": "avg_order_value"
                                    }
                                ]
                            },
                            "data": [
                                {
                                    "customer_id": "1",
                                    "avg_order_value": "1630.000000"
                                },
                                {
                                    "customer_id": "2",
                                    "avg_order_value": "673.500000"
                                },
                                {
                                    "customer_id": "3",
                                    "avg_order_value": "1109.500000"
                                },
                                {
                                    "customer_id": "4",
                                    "avg_order_value": "4275.000000"
                                },
                                {
                                    "customer_id": "5",
                                    "avg_order_value": "1651.250000"
                                }
                            ]
                        },
                        "text/html": [
                            "<table>",
                            "<tr><th>customer_id</th><th>avg_order_value</th></tr>",
                            "<tr><td>1</td><td>1630.000000</td></tr>",
                            "<tr><td>2</td><td>673.500000</td></tr>",
                            "<tr><td>3</td><td>1109.500000</td></tr>",
                            "<tr><td>4</td><td>4275.000000</td></tr>",
                            "<tr><td>5</td><td>1651.250000</td></tr>",
                            "</table>"
                        ]
                    }
                }
            ],
            "execution_count": 66
        },
        {
            "cell_type": "markdown",
            "source": [
                "<span style=\"color: rgb(209, 213, 219); font-family: Söhne, ui-sans-serif, system-ui, -apple-system, &quot;Segoe UI&quot;, Roboto, Ubuntu, Cantarell, &quot;Noto Sans&quot;, sans-serif, &quot;Helvetica Neue&quot;, Arial, &quot;Apple Color Emoji&quot;, &quot;Segoe UI Emoji&quot;, &quot;Segoe UI Symbol&quot;, &quot;Noto Color Emoji&quot;; font-size: 16px; white-space: pre-wrap; background-color: rgb(68, 70, 84);\">Write a SQL query to retrieve the products that have never been ordered.</span>"
            ],
            "metadata": {
                "language": "sql",
                "azdata_cell_guid": "1a65c55c-cc47-4298-bfe3-9b6f960c9957"
            },
            "attachments": {}
        },
        {
            "cell_type": "code",
            "source": [
                "delete from Order_Details\r\n",
                "where product_id = 10"
            ],
            "metadata": {
                "language": "sql",
                "azdata_cell_guid": "ebd3e147-d162-4056-b453-eafbb3d45144"
            },
            "outputs": [
                {
                    "output_type": "display_data",
                    "data": {
                        "text/html": "(2 rows affected)"
                    },
                    "metadata": {}
                },
                {
                    "output_type": "display_data",
                    "data": {
                        "text/html": "Total execution time: 00:00:00.020"
                    },
                    "metadata": {}
                }
            ],
            "execution_count": 70
        },
        {
            "cell_type": "code",
            "source": [
                "select P.product_name\r\n",
                "from Products P\r\n",
                "left join Order_Details OD\r\n",
                "on P.product_id = OD.product_id\r\n",
                "where order_detail_id is null;"
            ],
            "metadata": {
                "language": "sql",
                "azdata_cell_guid": "92afb3ea-4620-447a-b111-aed87aff196b"
            },
            "outputs": [
                {
                    "output_type": "display_data",
                    "data": {
                        "text/html": "(1 row affected)"
                    },
                    "metadata": {}
                },
                {
                    "output_type": "display_data",
                    "data": {
                        "text/html": "Total execution time: 00:00:00.010"
                    },
                    "metadata": {}
                },
                {
                    "output_type": "execute_result",
                    "metadata": {},
                    "execution_count": 71,
                    "data": {
                        "application/vnd.dataresource+json": {
                            "schema": {
                                "fields": [
                                    {
                                        "name": "product_name"
                                    }
                                ]
                            },
                            "data": [
                                {
                                    "product_name": "Ikura"
                                }
                            ]
                        },
                        "text/html": [
                            "<table>",
                            "<tr><th>product_name</th></tr>",
                            "<tr><td>Ikura</td></tr>",
                            "</table>"
                        ]
                    }
                }
            ],
            "execution_count": 71
        },
        {
            "cell_type": "code",
            "source": [
                "select product_name\r\n",
                "from Products\r\n",
                "where product_id not in (select product_id\r\n",
                "    from Order_Details\r\n",
                ")"
            ],
            "metadata": {
                "language": "sql",
                "azdata_cell_guid": "84a08bd3-e853-4d34-bc15-e0bc94872a35"
            },
            "outputs": [
                {
                    "output_type": "display_data",
                    "data": {
                        "text/html": "(1 row affected)"
                    },
                    "metadata": {}
                },
                {
                    "output_type": "display_data",
                    "data": {
                        "text/html": "Total execution time: 00:00:00.012"
                    },
                    "metadata": {}
                },
                {
                    "output_type": "execute_result",
                    "metadata": {},
                    "execution_count": 73,
                    "data": {
                        "application/vnd.dataresource+json": {
                            "schema": {
                                "fields": [
                                    {
                                        "name": "product_name"
                                    }
                                ]
                            },
                            "data": [
                                {
                                    "product_name": "Ikura"
                                }
                            ]
                        },
                        "text/html": [
                            "<table>",
                            "<tr><th>product_name</th></tr>",
                            "<tr><td>Ikura</td></tr>",
                            "</table>"
                        ]
                    }
                }
            ],
            "execution_count": 73
        },
        {
            "cell_type": "markdown",
            "source": [
                "Write a <span style=\"color: #0000ff;\">SQL</span> query <span style=\"color: #0000ff;\">to</span> calculate the <span style=\"color: #0000ff;\">percentage</span> of total revenue for each product category <span style=\"color: #0000ff;\">in</span> the <span style=\"color: #0000ff;\">year</span> <span style=\"color: #09885a;\">2022</span>. Display the results <span style=\"color: #0000ff;\">in</span> descending <span style=\"color: #0000ff;\">order by</span> <span style=\"color: #0000ff;\">percentage</span>."
            ],
            "metadata": {
                "language": "sql",
                "azdata_cell_guid": "47e6f6d6-5c01-4fad-ad16-6122f1e648e1"
            },
            "attachments": {}
        },
        {
            "cell_type": "code",
            "source": [
                "select category_id,\r\n",
                "sum(quantity*P.unit_price) as total_rev, \r\n",
                "sum(quantity*P.unit_price)/(select sum(quantity*unit_price) from Order_Details) * 100 as total_rev_percent\r\n",
                "from Products P\r\n",
                "left join Order_Details OD\r\n",
                "on P.product_id = OD.product_id\r\n",
                "where quantity is not NULL\r\n",
                "group by category_id\r\n",
                "ORDER by total_rev DESC"
            ],
            "metadata": {
                "language": "sql",
                "azdata_cell_guid": "7d889117-513c-4a4c-865a-3e3b8c0ded52"
            },
            "outputs": [
                {
                    "output_type": "display_data",
                    "data": {
                        "text/html": "(4 rows affected)"
                    },
                    "metadata": {}
                },
                {
                    "output_type": "display_data",
                    "data": {
                        "text/html": "Total execution time: 00:00:00.013"
                    },
                    "metadata": {}
                },
                {
                    "output_type": "execute_result",
                    "metadata": {},
                    "execution_count": 86,
                    "data": {
                        "application/vnd.dataresource+json": {
                            "schema": {
                                "fields": [
                                    {
                                        "name": "category_id"
                                    },
                                    {
                                        "name": "total_rev"
                                    },
                                    {
                                        "name": "total_rev_percent"
                                    }
                                ]
                            },
                            "data": [
                                {
                                    "category_id": "2",
                                    "total_rev": "7445.50",
                                    "total_rev_percent": "59.428500"
                                },
                                {
                                    "category_id": "6",
                                    "total_rev": "3395.00",
                                    "total_rev_percent": "27.098200"
                                },
                                {
                                    "category_id": "1",
                                    "total_rev": "1106.00",
                                    "total_rev_percent": "8.827800"
                                },
                                {
                                    "category_id": "7",
                                    "total_rev": "450.00",
                                    "total_rev_percent": "3.591800"
                                }
                            ]
                        },
                        "text/html": [
                            "<table>",
                            "<tr><th>category_id</th><th>total_rev</th><th>total_rev_percent</th></tr>",
                            "<tr><td>2</td><td>7445.50</td><td>59.428500</td></tr>",
                            "<tr><td>6</td><td>3395.00</td><td>27.098200</td></tr>",
                            "<tr><td>1</td><td>1106.00</td><td>8.827800</td></tr>",
                            "<tr><td>7</td><td>450.00</td><td>3.591800</td></tr>",
                            "</table>"
                        ]
                    }
                }
            ],
            "execution_count": 86
        },
        {
            "cell_type": "markdown",
            "source": [
                "<span style=\"color: rgb(209, 213, 219); font-family: Söhne, ui-sans-serif, system-ui, -apple-system, &quot;Segoe UI&quot;, Roboto, Ubuntu, Cantarell, &quot;Noto Sans&quot;, sans-serif, &quot;Helvetica Neue&quot;, Arial, &quot;Apple Color Emoji&quot;, &quot;Segoe UI Emoji&quot;, &quot;Segoe UI Symbol&quot;, &quot;Noto Color Emoji&quot;; font-size: 16px; white-space: pre-wrap; background-color: rgb(68, 70, 84);\">Write a SQL query to retrieve the top 5 customers by total number of orders, where each order is at least $1000 in value.</span>"
            ],
            "metadata": {
                "language": "sql",
                "azdata_cell_guid": "28408a24-f61a-400c-8f68-bfdf083fe126"
            },
            "attachments": {}
        },
        {
            "cell_type": "code",
            "source": [
                "select top 5 contact_name, count(O.order_id) as \"Order Count\"\r\n",
                "from Customers C\r\n",
                "left join Orders O\r\n",
                "on C.customer_id = O.customer_id\r\n",
                "left join (select order_id\r\n",
                "            from Order_Details OD\r\n",
                "            group by order_id\r\n",
                "            having sum(quantity*unit_price) >= 1000\r\n",
                "            ) as OD\r\n",
                "on O.order_id = OD.order_id\r\n",
                "group by contact_name\r\n",
                "order by \"Order Count\" DESC"
            ],
            "metadata": {
                "language": "sql",
                "azdata_cell_guid": "c1402815-49cd-4484-8023-4c069e18c1ee"
            },
            "outputs": [
                {
                    "output_type": "display_data",
                    "data": {
                        "text/html": "(5 rows affected)"
                    },
                    "metadata": {}
                },
                {
                    "output_type": "display_data",
                    "data": {
                        "text/html": "Total execution time: 00:00:00.012"
                    },
                    "metadata": {}
                },
                {
                    "output_type": "execute_result",
                    "metadata": {},
                    "execution_count": 96,
                    "data": {
                        "application/vnd.dataresource+json": {
                            "schema": {
                                "fields": [
                                    {
                                        "name": "contact_name"
                                    },
                                    {
                                        "name": "Order Count"
                                    }
                                ]
                            },
                            "data": [
                                {
                                    "contact_name": "Maria Anders",
                                    "Order Count": "2"
                                },
                                {
                                    "contact_name": "Christina Berglund",
                                    "Order Count": "2"
                                },
                                {
                                    "contact_name": "Antonio Moreno",
                                    "Order Count": "2"
                                },
                                {
                                    "contact_name": "Ana Trujillo",
                                    "Order Count": "2"
                                },
                                {
                                    "contact_name": "Thomas Hardy",
                                    "Order Count": "1"
                                }
                            ]
                        },
                        "text/html": [
                            "<table>",
                            "<tr><th>contact_name</th><th>Order Count</th></tr>",
                            "<tr><td>Maria Anders</td><td>2</td></tr>",
                            "<tr><td>Christina Berglund</td><td>2</td></tr>",
                            "<tr><td>Antonio Moreno</td><td>2</td></tr>",
                            "<tr><td>Ana Trujillo</td><td>2</td></tr>",
                            "<tr><td>Thomas Hardy</td><td>1</td></tr>",
                            "</table>"
                        ]
                    }
                }
            ],
            "execution_count": 96
        },
        {
            "cell_type": "markdown",
            "source": [
                "<span style=\"color: rgb(209, 213, 219); font-family: Söhne, ui-sans-serif, system-ui, -apple-system, &quot;Segoe UI&quot;, Roboto, Ubuntu, Cantarell, &quot;Noto Sans&quot;, sans-serif, &quot;Helvetica Neue&quot;, Arial, &quot;Apple Color Emoji&quot;, &quot;Segoe UI Emoji&quot;, &quot;Segoe UI Symbol&quot;, &quot;Noto Color Emoji&quot;; font-size: 16px; white-space: pre-wrap; background-color: rgb(68, 70, 84);\">Write a SQL query to retrieve the customers who have ordered from at least 4 different countries, and have spent at least $10,000 in total.</span>"
            ],
            "metadata": {
                "language": "sql",
                "azdata_cell_guid": "19d694bc-6533-4a77-8d8d-4d064b3940c5"
            },
            "attachments": {}
        },
        {
            "cell_type": "code",
            "source": [
                "select contact_name\r\n",
                "from Customers C\r\n",
                "inner join (select customer_id, count(distinct ship_country) as no_of_countries, sum(quantity*unit_price) as total_order_qty\r\n",
                "            from Orders O\r\n",
                "            left join Order_Details OD\r\n",
                "            on O.order_id = OD.order_id\r\n",
                "            group by customer_id\r\n",
                "            having sum(quantity*unit_price) > 2000 and APPROX_COUNT_DISTINCT(ship_country) >=2) O\r\n",
                "on C.customer_id = O.customer_id"
            ],
            "metadata": {
                "language": "sql",
                "azdata_cell_guid": "e5c0a39e-8da2-47fd-95a7-e65e45f8bd38"
            },
            "outputs": [
                {
                    "output_type": "display_data",
                    "data": {
                        "text/html": "(1 row affected)"
                    },
                    "metadata": {}
                },
                {
                    "output_type": "display_data",
                    "data": {
                        "text/html": "Total execution time: 00:00:00.014"
                    },
                    "metadata": {}
                },
                {
                    "output_type": "execute_result",
                    "metadata": {},
                    "execution_count": 107,
                    "data": {
                        "application/vnd.dataresource+json": {
                            "schema": {
                                "fields": [
                                    {
                                        "name": "contact_name"
                                    }
                                ]
                            },
                            "data": [
                                {
                                    "contact_name": "Maria Anders"
                                }
                            ]
                        },
                        "text/html": [
                            "<table>",
                            "<tr><th>contact_name</th></tr>",
                            "<tr><td>Maria Anders</td></tr>",
                            "</table>"
                        ]
                    }
                }
            ],
            "execution_count": 107
        },
        {
            "cell_type": "markdown",
            "source": [
                "4. Write a SQL query to retrieve the products that have been ordered at least once in each year from 2019 to 2023."
            ],
            "metadata": {
                "language": "sql",
                "azdata_cell_guid": "539d2a95-ca42-423e-a91c-4c162dc3b851"
            },
            "attachments": {}
        },
        {
            "cell_type": "code",
            "source": [
                "select order_year, product_name\r\n",
                "from Products P\r\n",
                "left join (select product_id, YEAR(order_date) as order_year\r\n",
                "            from Orders O\r\n",
                "            left join Order_Details OD\r\n",
                "            on OD.order_id = O.order_id) OD1\r\n",
                "on P.product_id = OD1.product_id\r\n",
                "where order_year is not NULL\r\n",
                "order by order_year"
            ],
            "metadata": {
                "language": "sql",
                "azdata_cell_guid": "16d901a4-575f-4c6b-8c17-174753e6924e"
            },
            "outputs": [
                {
                    "output_type": "display_data",
                    "data": {
                        "text/html": "(18 rows affected)"
                    },
                    "metadata": {}
                },
                {
                    "output_type": "display_data",
                    "data": {
                        "text/html": "Total execution time: 00:00:00.040"
                    },
                    "metadata": {}
                },
                {
                    "output_type": "execute_result",
                    "metadata": {},
                    "execution_count": 124,
                    "data": {
                        "application/vnd.dataresource+json": {
                            "schema": {
                                "fields": [
                                    {
                                        "name": "order_year"
                                    },
                                    {
                                        "name": "product_name"
                                    }
                                ]
                            },
                            "data": [
                                {
                                    "order_year": "2019",
                                    "product_name": "Chef Anton's Gumbo Mix"
                                },
                                {
                                    "order_year": "2019",
                                    "product_name": "Grandma's Boysenberry Spread"
                                },
                                {
                                    "order_year": "2019",
                                    "product_name": "Uncle Bob's Organic Dried Pears"
                                },
                                {
                                    "order_year": "2019",
                                    "product_name": "Northwoods Cranberry Sauce"
                                },
                                {
                                    "order_year": "2019",
                                    "product_name": "Chai"
                                },
                                {
                                    "order_year": "2019",
                                    "product_name": "Chang"
                                },
                                {
                                    "order_year": "2019",
                                    "product_name": "Aniseed Syrup"
                                },
                                {
                                    "order_year": "2020",
                                    "product_name": "Chef Anton's Cajun Seasoning"
                                },
                                {
                                    "order_year": "2020",
                                    "product_name": "Mishi Kobe Niku"
                                },
                                {
                                    "order_year": "2021",
                                    "product_name": "Chai"
                                },
                                {
                                    "order_year": "2021",
                                    "product_name": "Chef Anton's Gumbo Mix"
                                },
                                {
                                    "order_year": "2022",
                                    "product_name": "Chef Anton's Cajun Seasoning"
                                },
                                {
                                    "order_year": "2022",
                                    "product_name": "Grandma's Boysenberry Spread"
                                },
                                {
                                    "order_year": "2022",
                                    "product_name": "Chef Anton's Gumbo Mix"
                                },
                                {
                                    "order_year": "2022",
                                    "product_name": "Chef Anton's Cajun Seasoning"
                                },
                                {
                                    "order_year": "2022",
                                    "product_name": "Chang"
                                },
                                {
                                    "order_year": "2023",
                                    "product_name": "Northwoods Cranberry Sauce"
                                },
                                {
                                    "order_year": "2023",
                                    "product_name": "Chang"
                                }
                            ]
                        },
                        "text/html": [
                            "<table>",
                            "<tr><th>order_year</th><th>product_name</th></tr>",
                            "<tr><td>2019</td><td>Chef Anton's Gumbo Mix</td></tr>",
                            "<tr><td>2019</td><td>Grandma's Boysenberry Spread</td></tr>",
                            "<tr><td>2019</td><td>Uncle Bob's Organic Dried Pears</td></tr>",
                            "<tr><td>2019</td><td>Northwoods Cranberry Sauce</td></tr>",
                            "<tr><td>2019</td><td>Chai</td></tr>",
                            "<tr><td>2019</td><td>Chang</td></tr>",
                            "<tr><td>2019</td><td>Aniseed Syrup</td></tr>",
                            "<tr><td>2020</td><td>Chef Anton's Cajun Seasoning</td></tr>",
                            "<tr><td>2020</td><td>Mishi Kobe Niku</td></tr>",
                            "<tr><td>2021</td><td>Chai</td></tr>",
                            "<tr><td>2021</td><td>Chef Anton's Gumbo Mix</td></tr>",
                            "<tr><td>2022</td><td>Chef Anton's Cajun Seasoning</td></tr>",
                            "<tr><td>2022</td><td>Grandma's Boysenberry Spread</td></tr>",
                            "<tr><td>2022</td><td>Chef Anton's Gumbo Mix</td></tr>",
                            "<tr><td>2022</td><td>Chef Anton's Cajun Seasoning</td></tr>",
                            "<tr><td>2022</td><td>Chang</td></tr>",
                            "<tr><td>2023</td><td>Northwoods Cranberry Sauce</td></tr>",
                            "<tr><td>2023</td><td>Chang</td></tr>",
                            "</table>"
                        ]
                    }
                }
            ],
            "execution_count": 124
        },
        {
            "cell_type": "code",
            "source": [
                "SELECT p.product_id, p.product_name\r\n",
                "FROM Products p\r\n",
                "JOIN Order_Details od ON p.product_id = od.product_id\r\n",
                "JOIN Orders o ON od.order_id = o.order_id\r\n",
                "WHERE o.order_date >= '2019-01-01' AND o.order_date < '2024-01-01'\r\n",
                "GROUP BY p.product_id, p.product_name\r\n",
                "HAVING COUNT(DISTINCT YEAR(o.order_date)) = 5;"
            ],
            "metadata": {
                "language": "sql",
                "azdata_cell_guid": "d5ed93d3-073e-4e57-9335-49fe3bd3b617"
            },
            "outputs": [
                {
                    "output_type": "display_data",
                    "data": {
                        "text/html": "(0 rows affected)"
                    },
                    "metadata": {}
                },
                {
                    "output_type": "display_data",
                    "data": {
                        "text/html": "Total execution time: 00:00:00.010"
                    },
                    "metadata": {}
                },
                {
                    "output_type": "execute_result",
                    "metadata": {},
                    "execution_count": 127,
                    "data": {
                        "application/vnd.dataresource+json": {
                            "schema": {
                                "fields": [
                                    {
                                        "name": "product_id"
                                    },
                                    {
                                        "name": "product_name"
                                    }
                                ]
                            },
                            "data": []
                        },
                        "text/html": [
                            "<table>",
                            "<tr><th>product_id</th><th>product_name</th></tr>",
                            "</table>"
                        ]
                    }
                }
            ],
            "execution_count": 127
        }
    ]
}